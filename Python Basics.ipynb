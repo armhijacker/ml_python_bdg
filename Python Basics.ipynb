{
 "cells": [
  {
   "cell_type": "markdown",
   "metadata": {},
   "source": [
    "# Python Basics"
   ]
  },
  {
   "cell_type": "markdown",
   "metadata": {},
   "source": [
    "# <a name=\"structure\" href=\"https://docs.python.org/3/tutorial/datastructures.html#data-structures\">Data Structures</a>\n",
    "\n",
    "Data structures are \"larger\" objects which hold data inside. There are 4 data structures in Python:\n",
    "- [**list** - is defined using function **list()** or square brackets: <b>\"\\[\\]\"</b>. Can hold absolutely any data inside (int, float, str, bool, another list etc.). Elements in the list can be accessed using their index inside the square brackets (like in case of strings, indexation starts from 0)](#list)\n",
    "- [**tuple** - is defined using function **tuple()** or open brackets: **( )**. Can hold absolutely any data inside, yet is not mutable (e.g. cannot add or remove data). Elements can be accessed similarly as in case of lists.](#tuple)\n",
    "- [**set** - is defined using function **set()** or curly brackets: **{ }**. Can hold absolutely any data inside, yet only unique values (no repetitions). To access the elements in a set, it needs to be converted to a list.](#set)\n",
    "- [**dict** - is defined using function **dict()** or curly brackets: **{ }**. Can hold absolutely any data inside using key:value pairs.Do not mix it with tuple, as tuple has only values and no keys. Keys in dictionary should be unique. Elements in a dictionary do not keep any order, so one cannot access them using index. Instead, they are accessed using keys inside square brackets.](#dict)\n",
    "\n",
    "Each of the data structures has it's own methods. Those methods helps to add or remove an element (if the data structure is mutable), count number of elemenets, find an element etc."
   ]
  },
  {
   "cell_type": "markdown",
   "metadata": {},
   "source": [
    "## <a name=\"list\" href=\"https://docs.python.org/3/tutorial/datastructures.html#more-on-lists\">List </a>\n",
    "The list class is the most general, representing a sequence of arbitrary objects. Lists are zero-indexed. They are perhaps the most used data structure in Python, as they have many valuable behaviors. Methods for lists are many, among all:\n",
    "- **append()** - adds an element to the very end of the list\n",
    "- **extend()** - adds an element to the very end of the list after iterating over the element (i.e. partition then add)\n",
    "- **pop()** - removes an element using index\n",
    "- **remove()** - removes an element using value\n",
    "- other methods which can be accessed by inserting dot and pressing TAB after the list object name"
   ]
  },
  {
   "cell_type": "code",
   "execution_count": null,
   "metadata": {},
   "outputs": [],
   "source": [
    "empty_list = [] # empty list\n",
    "#empty_list = list() # same thing in a different wat\n",
    "name_list = ['Jack', 'John', 'Jimmy', 'Jivan', 'James', 'Joseph'] # list of strings\n",
    "int_list = [1, 2, 3, 4, 5] # list of integers\n",
    "mixed_list = [1, 'dog', 3.5] # list of different types of elements"
   ]
  },
  {
   "cell_type": "code",
   "execution_count": null,
   "metadata": {},
   "outputs": [],
   "source": [
    "print(name_list[0]) #first element\n",
    "print(name_list[-1]) #last element\n",
    "print(name_list[4]) #5th element (in Pythonic its 4th)\n",
    "print(name_list[0:3]) #first 3 elements\n",
    "print(name_list[:3]) #first 3 elements\n",
    "print(name_list[-3:]) #last 3 elements\n",
    "print(name_list[::2]) #first of each next 2 elements (odd numbered elemenets)\n",
    "print(name_list[::-1]) #reverse list"
   ]
  },
  {
   "cell_type": "code",
   "execution_count": null,
   "metadata": {},
   "outputs": [],
   "source": [
    "name_list.append(\"Jona\") #add Jona to names\n",
    "name_list.pop(0) #removes first element using its index\n",
    "name_list.remove(\"Jimmy\") #removes an element using value"
   ]
  },
  {
   "cell_type": "code",
   "execution_count": null,
   "metadata": {},
   "outputs": [],
   "source": [
    "print(f\"List append {name_list + name_list}\")\n",
    "print(f\"List append {name_list * 2}\")"
   ]
  },
  {
   "cell_type": "markdown",
   "metadata": {},
   "source": [
    "## <a name=\"dict\" href=\"https://docs.python.org/3/tutorial/datastructures.html#dictionaries\">Dictionary </a>\n",
    "Each key is separated from its value by a colon (:), the items are separated by commas, and the whole thing is enclosed in curly braces. Keys are unique within a dictionary, while values may not. The values of a dictionary can be of any type, but the keys must be of an immutable data type such as strings, numbers, or tuples."
   ]
  },
  {
   "cell_type": "code",
   "execution_count": null,
   "metadata": {},
   "outputs": [],
   "source": [
    "color_dict = {'Nuber five': 5, 'g': 'Green', 'b': 'Blue'}\n",
    "print(color_dict)"
   ]
  },
  {
   "cell_type": "code",
   "execution_count": null,
   "metadata": {},
   "outputs": [],
   "source": [
    "color_dict['Nuber five']"
   ]
  },
  {
   "cell_type": "code",
   "execution_count": null,
   "metadata": {},
   "outputs": [],
   "source": [
    "color_dict[\"Number Six\"] = 6"
   ]
  },
  {
   "cell_type": "code",
   "execution_count": null,
   "metadata": {},
   "outputs": [],
   "source": [
    "print(color_dict)"
   ]
  },
  {
   "cell_type": "code",
   "execution_count": null,
   "metadata": {},
   "outputs": [],
   "source": [
    "#adding values to the dict\n",
    "color_dict[\"y\"] = \"Yellow\"\n",
    "print(color_dict)\n",
    "color_dict.get('y', \"No Info\")"
   ]
  },
  {
   "cell_type": "code",
   "execution_count": null,
   "metadata": {},
   "outputs": [],
   "source": [
    "#get all keys\n",
    "color_dict.keys()"
   ]
  },
  {
   "cell_type": "code",
   "execution_count": null,
   "metadata": {},
   "outputs": [],
   "source": [
    "#get all values\n",
    "color_dict.values()"
   ]
  },
  {
   "cell_type": "code",
   "execution_count": null,
   "metadata": {},
   "outputs": [],
   "source": [
    "type((5, 6))"
   ]
  },
  {
   "cell_type": "code",
   "execution_count": null,
   "metadata": {},
   "outputs": [],
   "source": [
    "# Generator\n",
    "range(0, 50)"
   ]
  },
  {
   "cell_type": "code",
   "execution_count": null,
   "metadata": {},
   "outputs": [],
   "source": [
    "for i in range(0, 50, 2):\n",
    "    print(tuple([i,i+1]))"
   ]
  },
  {
   "cell_type": "markdown",
   "metadata": {},
   "source": [
    "### Set"
   ]
  },
  {
   "cell_type": "code",
   "execution_count": null,
   "metadata": {},
   "outputs": [],
   "source": [
    "set([1, 2, 3, 5]).intersection(set([2, 10, 5, 8]))"
   ]
  },
  {
   "cell_type": "markdown",
   "metadata": {},
   "source": [
    "# <a name=\"control\" href=\"https://docs.python.org/3/reference/compound_stmts.html#compound-statements\">Control Flow </a>\n",
    "\n",
    "In any programming language there are 3 constructs that help to control the flow:\n",
    "- <a href=\"https://docs.python.org/3/reference/compound_stmts.html#the-if-statement\">**if/else statement** - tests conditions and executes relevant actions based on the test result being True or False</a>\n",
    "- <a href=\"https://docs.python.org/3/reference/compound_stmts.html#the-for-statement\">**for loop** - repeats an action for predefined number of times</a>\n",
    "- <a href=\"https://docs.python.org/3/reference/compound_stmts.html#the-while-statement\">**while loop** - repeats an action until a condition is not met </a>\n",
    "- <a href=\"https://docs.python.org/3/reference/compound_stmts.html#function-definitions\">**functions**-user-defined executable statement. </a>"
   ]
  },
  {
   "cell_type": "markdown",
   "metadata": {},
   "source": [
    "## if/else\n",
    "\n",
    "If/else statement has the following structure:\n",
    "<br>\n",
    "if condition is met:\n",
    "<br>\n",
    "&nbsp;&nbsp;&nbsp;&nbsp;do something\n",
    "<br>\n",
    "elif another condition is met:\n",
    "<br>\n",
    "&nbsp;&nbsp;&nbsp;&nbsp;do something else\n",
    "<br>\n",
    "else:\n",
    "<br>\n",
    "&nbsp;&nbsp;&nbsp;&nbsp;do something different"
   ]
  },
  {
   "cell_type": "code",
   "execution_count": null,
   "metadata": {},
   "outputs": [],
   "source": [
    "a=1\n",
    "if a > 0:\n",
    "    print(str(a)+\" is positive\")\n",
    "elif a==0:\n",
    "    print(str(a)+\" is 0\")\n",
    "else:\n",
    "    print(str(a)+\" is negative\")\n",
    "print(\"Done\")"
   ]
  },
  {
   "cell_type": "markdown",
   "metadata": {},
   "source": [
    "## For loop\n",
    "\n",
    "Python’s for statement iterates over the items of any sequence (list, string or other iterable objects) in the order that they appear in the sequence."
   ]
  },
  {
   "cell_type": "code",
   "execution_count": null,
   "metadata": {},
   "outputs": [],
   "source": [
    "objects = [\"star\", \"man\", \"simple\"]\n",
    "'karen'.split()"
   ]
  },
  {
   "cell_type": "code",
   "execution_count": null,
   "metadata": {},
   "outputs": [],
   "source": [
    "for i in \"karen\".split(): \n",
    "    print(\"super\" + i)"
   ]
  },
  {
   "cell_type": "code",
   "execution_count": null,
   "metadata": {},
   "outputs": [],
   "source": [
    "objects_up = []\n",
    "for i in objects:\n",
    "    objects_up.append(i.upper()) # making upper case each object\n",
    "print(objects_up)\n",
    "print(objects)"
   ]
  },
  {
   "cell_type": "code",
   "execution_count": null,
   "metadata": {},
   "outputs": [],
   "source": [
    "for i in range(len(objects)): \n",
    "    print(\"super\" + objects[i])"
   ]
  },
  {
   "cell_type": "code",
   "execution_count": null,
   "metadata": {},
   "outputs": [],
   "source": [
    "def tell_time():\n",
    "    print(time.ctime())"
   ]
  },
  {
   "cell_type": "code",
   "execution_count": null,
   "metadata": {},
   "outputs": [],
   "source": [
    "import time\n",
    "for _ in range(10): \n",
    "    time.sleep(1)\n",
    "    tell_time()"
   ]
  },
  {
   "cell_type": "code",
   "execution_count": null,
   "metadata": {},
   "outputs": [],
   "source": [
    "for _, (idx, value) in zip(range(2), enumerate(['A', 'B', 'C'])):\n",
    "    print(idx, value)"
   ]
  },
  {
   "cell_type": "markdown",
   "metadata": {},
   "source": [
    "## While loop\n",
    "While loop is used when one does not know beforehand how many times an action needs to be repeated. It can repeat an action infinetly many times if not built correctly. While loop *usually* has 3 blocks: starting point, the condition and an increment."
   ]
  },
  {
   "cell_type": "code",
   "execution_count": null,
   "metadata": {},
   "outputs": [],
   "source": [
    "i = 1\n",
    "while i<2:\n",
    "    print(i)\n",
    "    i = i + 1\n",
    "print(\"Finished\")"
   ]
  },
  {
   "cell_type": "markdown",
   "metadata": {},
   "source": [
    "## Functions\n",
    "\n",
    "Many functions exist (built) in Python, yet some do not. If one wants to use a piece of code many times, usually s/he is encouraged to develop a function to use it in the future as well."
   ]
  },
  {
   "cell_type": "code",
   "execution_count": null,
   "metadata": {},
   "outputs": [],
   "source": [
    "import time \n",
    "def modeling():\n",
    "    print(\"start_modeling\")\n",
    "    time.sleep(5)\n",
    "    return \"modeling is done\""
   ]
  },
  {
   "cell_type": "code",
   "execution_count": null,
   "metadata": {},
   "outputs": [],
   "source": [
    "modeling()"
   ]
  },
  {
   "cell_type": "code",
   "execution_count": null,
   "metadata": {},
   "outputs": [],
   "source": [
    "def sqrt(num):\n",
    "    if num>=0:\n",
    "        return num**0.5\n",
    "    else:\n",
    "        print(\"sqrt is not available for negatives\")"
   ]
  },
  {
   "cell_type": "code",
   "execution_count": null,
   "metadata": {},
   "outputs": [],
   "source": [
    "Sqrt_number = sqrt(255)\n",
    "Sqrt_number * 5"
   ]
  },
  {
   "cell_type": "code",
   "execution_count": null,
   "metadata": {},
   "outputs": [],
   "source": [
    "# Decorator "
   ]
  },
  {
   "cell_type": "markdown",
   "metadata": {},
   "source": [
    "## <a name=\"comprehension\" href=\"https://docs.python.org/3/tutorial/datastructures.html#list-comprehensions\">Comprehensions (lists and dictionaries)</a>\n",
    " \n",
    "for and while loops are used to automate processes in Python. Yet they may not be user friendly as a result of long code. Additionaly, they can be slow. Whenever one needs to have a for loop which will yield a list/dictionary in the end, list/dictionary comprehensions may be used instead. They are faster and they allow usage of loops and conditionals (if/else) inside just one line of code."
   ]
  },
  {
   "cell_type": "code",
   "execution_count": null,
   "metadata": {},
   "outputs": [],
   "source": [
    "%%time\n",
    "A = list()\n",
    "for i in range(1,100000):\n",
    "    A.append(i)\n",
    "# print(A)"
   ]
  },
  {
   "cell_type": "code",
   "execution_count": null,
   "metadata": {},
   "outputs": [],
   "source": [
    "%%time\n",
    "#list of integers from 1 to 10 created using list comprehension\n",
    "s = [i+5 for i in range(1,100000) if i % 5]\n",
    "# print(s)"
   ]
  },
  {
   "cell_type": "code",
   "execution_count": null,
   "metadata": {},
   "outputs": [],
   "source": [
    "#list of squares of integers from 1 to 10 created using for loop\n",
    "sqr_list = []\n",
    "for i in range(1,11):\n",
    "    sqr_list.append(i*i)\n",
    "print(sqr_list)"
   ]
  },
  {
   "cell_type": "code",
   "execution_count": null,
   "metadata": {},
   "outputs": [],
   "source": [
    "#list of squares of integers from 1 to 10 created (and saved) using list comprehension\n",
    "my_square_list = [i*i for i in range(3,15)]\n",
    "[i for i in range(3, 15)]"
   ]
  },
  {
   "cell_type": "code",
   "execution_count": null,
   "metadata": {},
   "outputs": [],
   "source": [
    "#list of squares of odd integers from 1 to 10 created using for loop\n",
    "odd_sqr_list = []\n",
    "for j in range(1,11):\n",
    "    if j%2!=0:\n",
    "        odd_sqr_list.append(j**2)\n",
    "print(odd_sqr_list)"
   ]
  },
  {
   "cell_type": "code",
   "execution_count": null,
   "metadata": {},
   "outputs": [],
   "source": [
    "#list of squares of odd integers from 1 to 10 created using list comprehension\n",
    "[j**2 for j in range(3,15) if j%2!=0]"
   ]
  },
  {
   "cell_type": "code",
   "execution_count": null,
   "metadata": {},
   "outputs": [],
   "source": [
    "#a sample string to be used in future\n",
    "#for simplicity assume all names starting with J are males and K - females\n",
    "names = [\"James\",\"Jimmy\",\"Katherine\",\"John\",\"Karen\",\"Kate\",\"Jivan\",'Kim']"
   ]
  },
  {
   "cell_type": "code",
   "execution_count": null,
   "metadata": {},
   "outputs": [],
   "source": [
    "#for loop to create a list of uppercase names\n",
    "names_upper = []\n",
    "for j in names:\n",
    "    names_upper.append(j.upper())\n",
    "print(names_upper)"
   ]
  },
  {
   "cell_type": "code",
   "execution_count": null,
   "metadata": {},
   "outputs": [],
   "source": [
    "#list comprehension to create a list of uppercase names\n",
    "[j.upper() for j in names]"
   ]
  },
  {
   "cell_type": "code",
   "execution_count": null,
   "metadata": {},
   "outputs": [],
   "source": [
    "#for loop to create a list of uppercase female names\n",
    "woman_names_upper = []\n",
    "for i in names:\n",
    "    if i[0]==\"K\":\n",
    "        woman_names_upper.append(i.upper())\n",
    "print(woman_names_upper)"
   ]
  },
  {
   "cell_type": "code",
   "execution_count": null,
   "metadata": {},
   "outputs": [],
   "source": [
    "#list comrehension to create a list of uppercase female names\n",
    "[i.upper() for i in names if i[0]==\"K\"]"
   ]
  },
  {
   "cell_type": "code",
   "execution_count": null,
   "metadata": {},
   "outputs": [],
   "source": [
    "#dictionary comrehension for calculating squares of integers between 1 and 10\n",
    "{i:i**2 for i in range(1,11)}"
   ]
  },
  {
   "cell_type": "code",
   "execution_count": null,
   "metadata": {},
   "outputs": [],
   "source": [
    "{i:k**2 for (i, k) in zip(range(1,11),range(1,11))}"
   ]
  },
  {
   "cell_type": "code",
   "execution_count": null,
   "metadata": {},
   "outputs": [],
   "source": [
    "#dictionary comrehension for calculating squares of odd integers between 1 and 10\n",
    "{i:i**2 for i in range(1,11) if i%2!=0}"
   ]
  },
  {
   "cell_type": "code",
   "execution_count": null,
   "metadata": {},
   "outputs": [],
   "source": [
    "#dictionary comrehension for making female names uppercase\n",
    "{i:i.upper() for i in names if i[0]==\"K\"}"
   ]
  },
  {
   "cell_type": "markdown",
   "metadata": {},
   "source": [
    "### Generators"
   ]
  },
  {
   "cell_type": "code",
   "execution_count": null,
   "metadata": {},
   "outputs": [],
   "source": [
    "# Common generator\n",
    "def count_number():\n",
    "    yield 1\n",
    "    yield 2\n",
    "    yield 3"
   ]
  },
  {
   "cell_type": "code",
   "execution_count": null,
   "metadata": {},
   "outputs": [],
   "source": [
    "for i in count_number():\n",
    "    print(i)"
   ]
  },
  {
   "cell_type": "code",
   "execution_count": null,
   "metadata": {},
   "outputs": [],
   "source": [
    "def count_number_2(maxim):\n",
    "    i = 1\n",
    "    while i<=maxim:\n",
    "        yield i\n",
    "        i+=1"
   ]
  },
  {
   "cell_type": "code",
   "execution_count": null,
   "metadata": {},
   "outputs": [],
   "source": [
    "for i in count_number_2(3):\n",
    "    print(i)"
   ]
  },
  {
   "cell_type": "code",
   "execution_count": null,
   "metadata": {},
   "outputs": [],
   "source": [
    "squares = (x**2 for x in range(1, 1000))"
   ]
  },
  {
   "cell_type": "code",
   "execution_count": null,
   "metadata": {},
   "outputs": [],
   "source": [
    "squares"
   ]
  },
  {
   "cell_type": "code",
   "execution_count": null,
   "metadata": {},
   "outputs": [],
   "source": [
    "print(next(squares))\n",
    "print(next(squares))\n",
    "print(next(squares))"
   ]
  },
  {
   "cell_type": "code",
   "execution_count": null,
   "metadata": {},
   "outputs": [],
   "source": [
    "def squares_2():\n",
    "    i=1\n",
    "    while True:\n",
    "        yield i*i\n",
    "        i+=1"
   ]
  },
  {
   "cell_type": "code",
   "execution_count": null,
   "metadata": {},
   "outputs": [],
   "source": [
    "print(next(squares_2()))\n",
    "print(next(squares_2()))\n",
    "print(next(squares_2()))"
   ]
  },
  {
   "cell_type": "code",
   "execution_count": null,
   "metadata": {},
   "outputs": [],
   "source": []
  }
 ],
 "metadata": {
  "kernelspec": {
   "display_name": "Python 3 (ipykernel)",
   "language": "python",
   "name": "python3"
  },
  "language_info": {
   "codemirror_mode": {
    "name": "ipython",
    "version": 3
   },
   "file_extension": ".py",
   "mimetype": "text/x-python",
   "name": "python",
   "nbconvert_exporter": "python",
   "pygments_lexer": "ipython3",
   "version": "3.9.13"
  }
 },
 "nbformat": 4,
 "nbformat_minor": 4
}
