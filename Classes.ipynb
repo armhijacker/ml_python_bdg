{
 "cells": [
  {
   "cell_type": "markdown",
   "metadata": {
    "id": "c6o2iNUkLIdi"
   },
   "source": [
    "## Scopes"
   ]
  },
  {
   "cell_type": "markdown",
   "metadata": {},
   "source": [
    "1. Python Variable Scope & LEGB Rule\n",
    "\n",
    "What is Scope?\n",
    "In Python, scope refers to the region where a variable is recognized. It determines the visibility and lifetime of a variable.\n",
    "\n",
    "Python uses the LEGB rule to resolve variable names:\n",
    "\n",
    "* Local — inside the current function. These variables are initialized inside classes and functions. They are available only inside the function or class.\n",
    "\n",
    "* Enclosing — in the local scope of any enclosing functions\n",
    "\n",
    "* Global — at the top-level of the script or module. These variables are initialized outside of classes, functions and are available throughout the code.\n",
    "\n",
    "* Built-in — special reserved names in Python (like len, print, etc.). This functions are always available and ready to use.\n",
    "\n",
    "To make a variable global we use `global` keyword.\n",
    "The interpreter look through the varibales in LEGB order from left to right."
   ]
  },
  {
   "cell_type": "code",
   "execution_count": null,
   "metadata": {},
   "outputs": [],
   "source": [
    "text = \"Datark\"\n",
    "def fill_string_into_text():\n",
    "    global text\n",
    "    text = input()\n",
    "    # print(f'Fill text here: {text}')\n",
    "    # print('Fill text here: ', text)\n",
    "    return text\n",
    "print(text) \n",
    "print(fill_string_into_text())\n",
    "print(text)"
   ]
  },
  {
   "cell_type": "code",
   "execution_count": null,
   "metadata": {},
   "outputs": [],
   "source": [
    "def myfunc():\n",
    "  global x\n",
    "  x = \"fantastic\"\n",
    "\n",
    "myfunc()\n",
    "\n",
    "print(\"Python is \" + x)\n"
   ]
  },
  {
   "cell_type": "code",
   "execution_count": null,
   "metadata": {
    "id": "sqvSVSd-inKy"
   },
   "outputs": [],
   "source": [
    "x = \"global\"\n",
    "def outer():\n",
    "    x = \"enclosing\"\n",
    "\n",
    "    def inner():\n",
    "\n",
    "        x = \"local\"\n",
    "        print(\"Inner:\", x)\n",
    "    \n",
    "    inner()\n",
    "    print(\"Outer:\", x)\n",
    "\n",
    "outer()\n",
    "print(\"Global:\", x)\n"
   ]
  },
  {
   "cell_type": "markdown",
   "metadata": {},
   "source": [
    "Output Explanation:\n",
    "`inner()` prints \"local\" — found in the local scope.\n",
    "\n",
    "`outer()` prints \"enclosing\" — found in the enclosing scope.\n",
    "\n",
    "The global `print()` prints \"global\"."
   ]
  },
  {
   "cell_type": "markdown",
   "metadata": {
    "id": "zEQ-hdaSnfZa"
   },
   "source": [
    "## OOP"
   ]
  },
  {
   "cell_type": "markdown",
   "metadata": {},
   "source": [
    "OOP is a programming paradigm that organizes code using objects — which are instances of classes. This enables encapsulation, abstraction, inheritance, and polymorphism.\n",
    "\n",
    "Benefits of OOP:\n",
    "- Code reusability\n",
    "\n",
    "- Easier debugging and maintenance\n",
    "\n",
    "- Logical structure and modularity"
   ]
  },
  {
   "cell_type": "markdown",
   "metadata": {
    "id": "x8Ia9YPOpGU-"
   },
   "source": [
    "```python\n",
    "\n",
    "class <ClassName>:\n",
    "  \"\"\"Docstring of the class\"\"\"\n",
    "\n",
    "  # Code\n",
    "\n",
    "```"
   ]
  },
  {
   "cell_type": "code",
   "execution_count": null,
   "metadata": {},
   "outputs": [],
   "source": [
    "# Step 1:\n",
    "class Dog(object):\n",
    "    # def __init__(self, name, nick):\n",
    "    #     self.name = name\n",
    "    #     self.nick = nick\n",
    "    def bark(self, owner):\n",
    "        self.owner = owner\n",
    "        print(f\"Woof!{self.owner}\")\n",
    "    def owner_info(self):\n",
    "        print(self.owner)"
   ]
  },
  {
   "cell_type": "code",
   "execution_count": null,
   "metadata": {},
   "outputs": [],
   "source": [
    "dog_model = Dog()"
   ]
  },
  {
   "cell_type": "code",
   "execution_count": null,
   "metadata": {},
   "outputs": [],
   "source": [
    "# Step 2:\n",
    "class Dog:\n",
    "    def __init__(self, name, age): # Constructor Method\n",
    "        self.name = name # Attributes that shares for all elements\n",
    "        self.age = age\n",
    "\n",
    "    def bark(self):\n",
    "        print(f\"{self.name} says Woof!\")\n",
    "        return None\n",
    "\n",
    "    def birthday(self):\n",
    "        self.age += 1\n",
    "        print(f\"{self.name} is now {self.age} years old!\")\n",
    "\n",
    "my_dog = Dog(\"Buddy\", 3)\n",
    "my_dog.bark()\n",
    "my_dog.birthday()\n",
    "print(my_dog.name)"
   ]
  },
  {
   "cell_type": "code",
   "execution_count": null,
   "metadata": {},
   "outputs": [],
   "source": [
    "class Dog:\n",
    "    def __init__(self, name, breed):\n",
    "        self.name = name\n",
    "        self.breed = breed\n",
    "\n",
    "    def bark(self):\n",
    "        print(f\"{self.name} says woof!\")\n",
    "\n",
    "# Creating objects\n",
    "dog1 = Dog(\"Rex\", \"German Shepherd\")\n",
    "dog2 = Dog(\"Buddy\", \"Golden Retriever\")\n",
    "\n",
    "dog1.bark()\n",
    "dog2.bark()"
   ]
  },
  {
   "cell_type": "markdown",
   "metadata": {},
   "source": [
    "Explanation:\n",
    "- `__init__()` is the constructor method. It initializes the object.\n",
    "\n",
    "- `self` refers to the current object.\n",
    "\n",
    "- `bark()` is a method, just like a function but inside a class."
   ]
  },
  {
   "cell_type": "code",
   "execution_count": null,
   "metadata": {},
   "outputs": [],
   "source": [
    "class Cat:\n",
    "    species = \"Felis catus\"  # class variable\n",
    "\n",
    "    def __init__(self, name):\n",
    "        self.name = name  # Instance variable\n",
    "\n",
    "cat1 = Cat(\"Luna\")\n",
    "cat2 = Cat(\"Leo\")\n",
    "\n",
    "print(cat1.name, cat1.species)\n",
    "print(cat2.name, cat2.species)\n",
    "\n",
    "Cat.species = \"Domestic Cat\"  # changing class variable\n",
    "print(cat1.species)\n"
   ]
  },
  {
   "cell_type": "markdown",
   "metadata": {
    "id": "YJmC1QPIgjP2"
   },
   "source": [
    "## Inheritance"
   ]
  },
  {
   "cell_type": "markdown",
   "metadata": {},
   "source": [
    "Inheritance allows a class (child) to inherit attributes and methods from another class (parent)."
   ]
  },
  {
   "cell_type": "code",
   "execution_count": null,
   "metadata": {
    "id": "o-zJj71sinLg"
   },
   "outputs": [],
   "source": [
    "class Animal:\n",
    "    def __init__(self, name):\n",
    "        self.name = name\n",
    "\n",
    "    def speak(self):\n",
    "        print(f\"{self.name} makes a sound.\")\n",
    "\n",
    "class Cat(Animal):\n",
    "    def speak(self):\n",
    "        print(f\"{self.name} says meow!\")\n",
    "\n",
    "class Dog(Animal):\n",
    "    def speak(self):\n",
    "        print(f\"{self.name} says woof!\")\n",
    "\n",
    "cat = Cat(\"Whiskers\")\n",
    "dog = Dog(\"Rex\")\n",
    "\n",
    "cat.speak()\n",
    "dog.speak()\n"
   ]
  },
  {
   "cell_type": "markdown",
   "metadata": {
    "id": "Nvklr6eImQl6"
   },
   "source": [
    "Cat and Dog inherit from Animal.\n",
    "\n",
    "They override the speak() method, which is an example of polymorphism."
   ]
  },
  {
   "cell_type": "markdown",
   "metadata": {
    "id": "bUhRFktxooPA"
   },
   "source": [
    "## Magic methods"
   ]
  },
  {
   "cell_type": "markdown",
   "metadata": {
    "id": "K-uZLV91op8k"
   },
   "source": [
    "These are special methods in Python with double underscores, like `__init__`, `__str__`, `__add__`, etc. They allow objects to behave like built-in types."
   ]
  },
  {
   "cell_type": "markdown",
   "metadata": {},
   "source": [
    "| Method\t| Purpose |\n",
    "| --------- | ------- |\n",
    "| __init__\t| Constructor |\n",
    "| __str__\t| String representation |\n",
    "| __repr__\t| Developer-friendly representation |\n",
    "| __len__\t| Called by len() |\n",
    "| __add__\t| Overloads + operator |"
   ]
  },
  {
   "cell_type": "code",
   "execution_count": null,
   "metadata": {},
   "outputs": [],
   "source": [
    "class Book:\n",
    "    def __init__(self, title, pages):\n",
    "        self.title = title\n",
    "        self.pages = pages\n",
    "\n",
    "    def __str__(self):\n",
    "        return f\"{self.title} ({self.pages} pages)\"\n",
    "\n",
    "    def __len__(self):\n",
    "        return self.pages\n",
    "\n",
    "book = Book(\"Python 101\", 350)\n",
    "\n",
    "print(book)\n",
    "print(len(book))\n"
   ]
  },
  {
   "cell_type": "markdown",
   "metadata": {},
   "source": [
    " Explanation:\n",
    " \n",
    "__str__() makes the object readable when printed.\n",
    "\n",
    "__len__() allows the object to respond to len() like a list or string."
   ]
  },
  {
   "cell_type": "markdown",
   "metadata": {
    "id": "AULixi4hpEoF"
   },
   "source": [
    "**```__init__()```**"
   ]
  },
  {
   "cell_type": "code",
   "execution_count": null,
   "metadata": {
    "id": "xhfroO2rinLm"
   },
   "outputs": [],
   "source": []
  },
  {
   "cell_type": "markdown",
   "metadata": {
    "id": "5w9IpQrLpHRs"
   },
   "source": [
    "**```__str__()```**"
   ]
  },
  {
   "cell_type": "code",
   "execution_count": null,
   "metadata": {
    "id": "fJuSxbTMinLo"
   },
   "outputs": [],
   "source": []
  },
  {
   "cell_type": "markdown",
   "metadata": {
    "id": "Rt7C3zqJptw4"
   },
   "source": [
    "**```__add__()```**, **```__sub__()```**, **```__mul__()```**, **```__truediv__()```**"
   ]
  },
  {
   "cell_type": "code",
   "execution_count": null,
   "metadata": {
    "id": "V1ZbvJUZinLz"
   },
   "outputs": [],
   "source": []
  },
  {
   "cell_type": "markdown",
   "metadata": {
    "id": "KCcXoXV9rBvs"
   },
   "source": [
    "**```__enter__()```** and\n",
    "**```__exit__()```**\n"
   ]
  },
  {
   "cell_type": "code",
   "execution_count": null,
   "metadata": {
    "id": "Dcb8R4-tinL3"
   },
   "outputs": [],
   "source": [
    "class Student:\n",
    "    def __init__(self, name, grade):\n",
    "        self.name = name\n",
    "        self.grade = grade  # grade is out of 100\n",
    "\n",
    "    def is_passed(self):\n",
    "        return self.grade >= 50\n",
    "\n",
    "class Classroom:\n",
    "    def __init__(self):\n",
    "        self.students = []\n",
    "\n",
    "    def add_student(self, student):\n",
    "        self.students.append(student)\n",
    "\n",
    "    def class_average(self):\n",
    "        if not self.students:\n",
    "            return 0\n",
    "        total = sum(student.grade for student in self.students)\n",
    "        return total / len(self.students)\n",
    "\n",
    "    def print_passed(self):\n",
    "        for s in self.students:\n",
    "            if s.is_passed():\n",
    "                print(f\"{s.name} has passed.\")\n",
    "\n",
    "# Testing\n",
    "s1 = Student(\"Alice\", 78)\n",
    "s2 = Student(\"Bob\", 45)\n",
    "s3 = Student(\"Charlie\", 90)\n",
    "\n",
    "room = Classroom()\n",
    "room.add_student(s1)\n",
    "room.add_student(s2)\n",
    "room.add_student(s3)\n",
    "\n",
    "print(\"Average grade:\", room.class_average())\n",
    "room.print_passed()\n"
   ]
  },
  {
   "cell_type": "code",
   "execution_count": null,
   "metadata": {},
   "outputs": [],
   "source": [
    "class ShoppingCart:\n",
    "    def __init__(self, owner):\n",
    "        self.owner = owner\n",
    "        self.items = []\n",
    "        self._is_open = False\n",
    "\n",
    "    def add_item(self, item, price):\n",
    "        if not self._is_open:\n",
    "            raise RuntimeError(\"Cart must be opened using 'with' before adding items.\")\n",
    "        self.items.append((item, price))\n",
    "\n",
    "    def __len__(self):\n",
    "        return len(self.items)\n",
    "\n",
    "    def __str__(self):\n",
    "        return f\"{self.owner}'s cart with {len(self)} items.\"\n",
    "\n",
    "    def __repr__(self):\n",
    "        return f\"ShoppingCart(owner={self.owner!r}, items={self.items!r})\"\n",
    "\n",
    "    def __add__(self, other):\n",
    "        if not isinstance(other, ShoppingCart):\n",
    "            return NotImplemented\n",
    "        new_cart = ShoppingCart(f\"{self.owner} & {other.owner}\")\n",
    "        new_cart.items = self.items + other.items\n",
    "        return new_cart\n",
    "\n",
    "    def __enter__(self):\n",
    "        print(f\"Opening {self.owner}'s cart...\")\n",
    "        self._is_open = True\n",
    "        return self\n",
    "\n",
    "    def __exit__(self, exc_type, exc_value, traceback):\n",
    "        print(f\"Closing {self.owner}'s cart.\")\n",
    "        self._is_open = False\n",
    "        if exc_type:\n",
    "            print(f\"An error occurred: {exc_type.__name__} - {exc_value}\")\n",
    "        return False  # Do not suppress exceptions\n",
    "\n",
    "# Usage Example\n",
    "with ShoppingCart(\"Alice\") as cart:\n",
    "    cart.add_item(\"Apple\", 1.2)\n",
    "    cart.add_item(\"Bread\", 2.5)\n",
    "    print(cart)\n",
    "    print(repr(cart))\n",
    "    print(\"Total items:\", len(cart))\n"
   ]
  },
  {
   "cell_type": "code",
   "execution_count": null,
   "metadata": {},
   "outputs": [],
   "source": []
  }
 ],
 "metadata": {
  "colab": {
   "collapsed_sections": [],
   "name": "Lecture 7. Scopes, OOP, classes, instances.ipynb",
   "provenance": []
  },
  "kernelspec": {
   "display_name": "Python 3 (ipykernel)",
   "language": "python",
   "name": "python3"
  },
  "language_info": {
   "codemirror_mode": {
    "name": "ipython",
    "version": 3
   },
   "file_extension": ".py",
   "mimetype": "text/x-python",
   "name": "python",
   "nbconvert_exporter": "python",
   "pygments_lexer": "ipython3",
   "version": "3.9.13"
  }
 },
 "nbformat": 4,
 "nbformat_minor": 4
}
