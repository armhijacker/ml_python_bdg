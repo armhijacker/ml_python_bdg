{
 "cells": [
  {
   "cell_type": "markdown",
   "metadata": {
    "id": "c6o2iNUkLIdi"
   },
   "source": [
    "## Scopes"
   ]
  },
  {
   "cell_type": "markdown",
   "metadata": {},
   "source": [
    "1. Python Variable Scope & LEGB Rule\n",
    "\n",
    "What is Scope?\n",
    "In Python, scope refers to the region where a variable is recognized. It determines the visibility and lifetime of a variable.\n",
    "\n",
    "Python uses the LEGB rule to resolve variable names:\n",
    "\n",
    "* Local — inside the current function. These variables are initialized inside classes and functions. They are available only inside the function or class.\n",
    "\n",
    "* Enclosing — in the local scope of any enclosing functions\n",
    "\n",
    "* Global — at the top-level of the script or module. These variables are initialized outside of classes, functions and are available throughout the code.\n",
    "\n",
    "* Built-in — special reserved names in Python (like len, print, etc.). This functions are always available and ready to use.\n",
    "\n",
    "To make a variable global we use `global` keyword.\n",
    "The interpreter look through the varibales in LEGB order from left to right."
   ]
  },
  {
   "cell_type": "code",
   "execution_count": 2,
   "metadata": {
    "id": "sqvSVSd-inKy"
   },
   "outputs": [
    {
     "name": "stdout",
     "output_type": "stream",
     "text": [
      "Inner: local\n",
      "Outer: enclosing\n",
      "Global: global\n"
     ]
    }
   ],
   "source": [
    "x = \"global\"\n",
    "\n",
    "def outer():\n",
    "    x = \"enclosing\"\n",
    "    \n",
    "    def inner():\n",
    "        x = \"local\"\n",
    "        print(\"Inner:\", x)\n",
    "    \n",
    "    inner()\n",
    "    print(\"Outer:\", x)\n",
    "\n",
    "outer()\n",
    "print(\"Global:\", x)\n"
   ]
  },
  {
   "cell_type": "markdown",
   "metadata": {},
   "source": [
    "Output Explanation:\n",
    "`inner()` prints \"local\" — found in the local scope.\n",
    "\n",
    "`outer()` prints \"enclosing\" — found in the enclosing scope.\n",
    "\n",
    "The global `print()` prints \"global\"."
   ]
  },
  {
   "cell_type": "markdown",
   "metadata": {
    "id": "zEQ-hdaSnfZa"
   },
   "source": [
    "## OOP"
   ]
  },
  {
   "cell_type": "markdown",
   "metadata": {},
   "source": [
    "OOP is a programming paradigm that organizes code using objects — which are instances of classes. This enables encapsulation, abstraction, inheritance, and polymorphism.\n",
    "\n",
    "Benefits of OOP:\n",
    "- Code reusability\n",
    "\n",
    "- Easier debugging and maintenance\n",
    "\n",
    "- Logical structure and modularity"
   ]
  },
  {
   "cell_type": "markdown",
   "metadata": {
    "id": "x8Ia9YPOpGU-"
   },
   "source": [
    "```python\n",
    "\n",
    "class <ClassName>:\n",
    "  \"\"\"Docstring of the class\"\"\"\n",
    "\n",
    "  # Code\n",
    "\n",
    "```"
   ]
  },
  {
   "cell_type": "code",
   "execution_count": 3,
   "metadata": {},
   "outputs": [
    {
     "name": "stdout",
     "output_type": "stream",
     "text": [
      "Rex says woof!\n",
      "Buddy says woof!\n"
     ]
    }
   ],
   "source": [
    "class Dog:\n",
    "    def __init__(self, name, breed):\n",
    "        self.name = name\n",
    "        self.breed = breed\n",
    "\n",
    "    def bark(self):\n",
    "        print(f\"{self.name} says woof!\")\n",
    "\n",
    "# Creating objects\n",
    "dog1 = Dog(\"Rex\", \"German Shepherd\")\n",
    "dog2 = Dog(\"Buddy\", \"Golden Retriever\")\n",
    "\n",
    "dog1.bark()\n",
    "dog2.bark()"
   ]
  },
  {
   "cell_type": "markdown",
   "metadata": {},
   "source": [
    "Explanation:\n",
    "- `__init__()` is the constructor method. It initializes the object.\n",
    "\n",
    "- `self` refers to the current object.\n",
    "\n",
    "- `bark()` is a method, just like a function but inside a class."
   ]
  },
  {
   "cell_type": "markdown",
   "metadata": {
    "id": "YJmC1QPIgjP2"
   },
   "source": [
    "## Inheritance"
   ]
  },
  {
   "cell_type": "markdown",
   "metadata": {},
   "source": [
    "Inheritance allows a class (child) to inherit attributes and methods from another class (parent)."
   ]
  },
  {
   "cell_type": "code",
   "execution_count": 4,
   "metadata": {
    "id": "o-zJj71sinLg"
   },
   "outputs": [
    {
     "name": "stdout",
     "output_type": "stream",
     "text": [
      "Whiskers says meow!\n",
      "Rex says woof!\n"
     ]
    }
   ],
   "source": [
    "class Animal:\n",
    "    def __init__(self, name):\n",
    "        self.name = name\n",
    "\n",
    "    def speak(self):\n",
    "        print(f\"{self.name} makes a sound.\")\n",
    "\n",
    "class Cat(Animal):\n",
    "    def speak(self):\n",
    "        print(f\"{self.name} says meow!\")\n",
    "\n",
    "class Dog(Animal):\n",
    "    def speak(self):\n",
    "        print(f\"{self.name} says woof!\")\n",
    "\n",
    "cat = Cat(\"Whiskers\")\n",
    "dog = Dog(\"Rex\")\n",
    "\n",
    "cat.speak()\n",
    "dog.speak()\n"
   ]
  },
  {
   "cell_type": "markdown",
   "metadata": {
    "id": "Nvklr6eImQl6"
   },
   "source": [
    "Cat and Dog inherit from Animal.\n",
    "\n",
    "They override the speak() method, which is an example of polymorphism."
   ]
  },
  {
   "cell_type": "markdown",
   "metadata": {
    "id": "bUhRFktxooPA"
   },
   "source": [
    "## Magic methods"
   ]
  },
  {
   "cell_type": "markdown",
   "metadata": {
    "id": "K-uZLV91op8k"
   },
   "source": [
    "These are special methods in Python with double underscores, like `__init__`, `__str__`, `__add__`, etc. They allow objects to behave like built-in types."
   ]
  },
  {
   "cell_type": "markdown",
   "metadata": {},
   "source": [
    "| Method\t| Purpose |\n",
    "| --------- | ------- |\n",
    "| __init__\t| Constructor |\n",
    "| __str__\t| String representation |\n",
    "| __repr__\t| Developer-friendly representation |\n",
    "| __len__\t| Called by len() |\n",
    "| __add__\t| Overloads + operator |"
   ]
  },
  {
   "cell_type": "code",
   "execution_count": 5,
   "metadata": {},
   "outputs": [
    {
     "name": "stdout",
     "output_type": "stream",
     "text": [
      "Python 101 (350 pages)\n",
      "350\n"
     ]
    }
   ],
   "source": [
    "class Book:\n",
    "    def __init__(self, title, pages):\n",
    "        self.title = title\n",
    "        self.pages = pages\n",
    "\n",
    "    def __str__(self):\n",
    "        return f\"{self.title} ({self.pages} pages)\"\n",
    "\n",
    "    def __len__(self):\n",
    "        return self.pages\n",
    "\n",
    "book = Book(\"Python 101\", 350)\n",
    "\n",
    "print(book)\n",
    "print(len(book))\n"
   ]
  },
  {
   "cell_type": "markdown",
   "metadata": {},
   "source": [
    " Explanation:\n",
    " \n",
    "__str__() makes the object readable when printed.\n",
    "\n",
    "__len__() allows the object to respond to len() like a list or string."
   ]
  },
  {
   "cell_type": "markdown",
   "metadata": {
    "id": "AULixi4hpEoF"
   },
   "source": [
    "**```__init__()```**"
   ]
  },
  {
   "cell_type": "code",
   "execution_count": null,
   "metadata": {
    "id": "xhfroO2rinLm"
   },
   "outputs": [],
   "source": []
  },
  {
   "cell_type": "markdown",
   "metadata": {
    "id": "5w9IpQrLpHRs"
   },
   "source": [
    "**```__str__()```**"
   ]
  },
  {
   "cell_type": "code",
   "execution_count": null,
   "metadata": {
    "id": "fJuSxbTMinLo"
   },
   "outputs": [],
   "source": []
  },
  {
   "cell_type": "markdown",
   "metadata": {
    "id": "Rt7C3zqJptw4"
   },
   "source": [
    "**```__add__()```**, **```__sub__()```**, **```__mul__()```**, **```__truediv__()```**"
   ]
  },
  {
   "cell_type": "code",
   "execution_count": null,
   "metadata": {
    "id": "V1ZbvJUZinLz"
   },
   "outputs": [],
   "source": []
  },
  {
   "cell_type": "markdown",
   "metadata": {
    "id": "KCcXoXV9rBvs"
   },
   "source": [
    "**```__enter__()```** and\n",
    "**```__exit__()```**\n"
   ]
  },
  {
   "cell_type": "code",
   "execution_count": null,
   "metadata": {
    "id": "Dcb8R4-tinL3"
   },
   "outputs": [],
   "source": []
  }
 ],
 "metadata": {
  "colab": {
   "collapsed_sections": [],
   "name": "Lecture 7. Scopes, OOP, classes, instances.ipynb",
   "provenance": []
  },
  "kernelspec": {
   "display_name": "Python 3",
   "language": "python",
   "name": "python3"
  },
  "language_info": {
   "codemirror_mode": {
    "name": "ipython",
    "version": 3
   },
   "file_extension": ".py",
   "mimetype": "text/x-python",
   "name": "python",
   "nbconvert_exporter": "python",
   "pygments_lexer": "ipython3",
   "version": "3.8.3"
  }
 },
 "nbformat": 4,
 "nbformat_minor": 1
}
