{
 "cells": [
  {
   "cell_type": "markdown",
   "id": "e2b87c1b-77fc-4cf2-935e-afd4b090c7f5",
   "metadata": {},
   "source": [
    "# Numpy"
   ]
  },
  {
   "cell_type": "code",
   "execution_count": null,
   "id": "9d111ef5-7806-407f-a132-a582cb3ac716",
   "metadata": {},
   "outputs": [],
   "source": [
    "import numpy as np"
   ]
  },
  {
   "cell_type": "code",
   "execution_count": null,
   "id": "12197c88-d073-498d-8e65-da8eff1e5d2f",
   "metadata": {},
   "outputs": [],
   "source": [
    "# 1 np.array() – Creating arrays Application: Convert lists into NumPy arrays for fast operations.\n",
    "\n",
    "arr = np.array([1, 2, 3, 4])\n",
    "print(arr)\n",
    "print(type(arr))"
   ]
  },
  {
   "cell_type": "code",
   "execution_count": null,
   "id": "605c31e6-10f8-41ca-a668-34cd8aea5a58",
   "metadata": {},
   "outputs": [],
   "source": [
    "X = [1, 5, 10, 3]\n",
    "X_V = np.array(X)\n",
    "# np.transpose(X_V) == X_V.T\n",
    "print(np.transpose(X_V).shape, X_V.shape)\n",
    "np.matmul(np.transpose(X_V), X_V)"
   ]
  },
  {
   "cell_type": "code",
   "execution_count": null,
   "id": "66eaff31-a5bc-429d-ae4c-a59366372e5e",
   "metadata": {},
   "outputs": [],
   "source": [
    "X_V.reshape(1,-1).shape"
   ]
  },
  {
   "cell_type": "code",
   "execution_count": null,
   "id": "c821a650-d16d-4389-91a3-ba760de458e5",
   "metadata": {},
   "outputs": [],
   "source": [
    "X_V.reshape(-1,1).shape"
   ]
  },
  {
   "cell_type": "code",
   "execution_count": null,
   "id": "22586664-5586-41a0-80de-eec2b43d9b1f",
   "metadata": {},
   "outputs": [],
   "source": [
    "# 1' Boolean indexing & filtering Filtering arrays by condition\n",
    "a = np.array([1, 2, 3, 4])\n",
    "a[a > 2]\n"
   ]
  },
  {
   "cell_type": "code",
   "execution_count": null,
   "id": "41140cda-93ea-4fe4-8552-b745ae7b795b",
   "metadata": {},
   "outputs": [],
   "source": [
    "# 2 np.arange() – Generate sequences Application: Creating ranges for indexing or plotting.\n",
    "np.arange(0, 10, 2) \n"
   ]
  },
  {
   "cell_type": "code",
   "execution_count": null,
   "id": "446f9d33-ce86-46d1-953e-6e432dc5b9d3",
   "metadata": {},
   "outputs": [],
   "source": [
    "# 3 np.linspace() – Generate evenly spaced numbers Application: Plotting continuous functions or simulation ranges.\n",
    "np.linspace(0, 1, 5) \n"
   ]
  },
  {
   "cell_type": "code",
   "execution_count": null,
   "id": "83132cf9-cb1b-48f7-bb26-d2894cfea02a",
   "metadata": {},
   "outputs": [],
   "source": []
  },
  {
   "cell_type": "code",
   "execution_count": null,
   "id": "aa82d702-12f5-4947-828d-6a897a4a253d",
   "metadata": {},
   "outputs": [],
   "source": [
    "# 4 np.reshape() – Reshaping arrays Application: Transforming data for ML model input.\n",
    "a = np.array([1, 2, 3, 4, 5, 6])\n",
    "a.reshape((2, 3)) \n",
    "\n",
    "# Flatten the array\n",
    "a.ravel() \n"
   ]
  },
  {
   "cell_type": "code",
   "execution_count": null,
   "id": "42b85978-3dd3-4252-a44e-7145cebe4281",
   "metadata": {},
   "outputs": [],
   "source": [
    "# 5  np.mean(), np.median(), np.std(), np.var() Application: Descriptive statistics.\n",
    "data = np.array([1, 2, 3, 4, 5])\n",
    "np.mean(data)\n",
    "np.std(data)\n"
   ]
  },
  {
   "cell_type": "code",
   "execution_count": null,
   "id": "fb80f4b3-2138-4492-a218-980d065d183c",
   "metadata": {},
   "outputs": [],
   "source": [
    "# 6  np.sum(), np.min(), np.max() Application: Aggregation and normalization.\n",
    "arr = np.array([[1, 2], [3, 4]])\n",
    "np.sum(arr)\n",
    "np.min(arr)\n",
    "np.max(arr)\n"
   ]
  },
  {
   "cell_type": "code",
   "execution_count": null,
   "id": "7ece5dc2-da1c-4b4c-b980-77a24d8260f6",
   "metadata": {},
   "outputs": [],
   "source": [
    "# 7 np.dot() / @ operator – Matrix multiplication Application: Linear algebra in ML models.\n",
    "A = np.array([[1, 2], [3, 4]])\n",
    "B = np.array([[5, 6], [7, 8]])\n",
    "print(np.dot(A, B))\n",
    "print(A@B)"
   ]
  },
  {
   "cell_type": "code",
   "execution_count": null,
   "id": "c6391ea1-074f-4ee1-944f-3b47c4cb3920",
   "metadata": {},
   "outputs": [],
   "source": [
    "a = np.array([[1, 2], [3, 4]])\n",
    "b = np.array([[2, 0], [1, 2]])\n",
    "np.dot(a, b)\n"
   ]
  },
  {
   "cell_type": "code",
   "execution_count": null,
   "id": "7872a075-0432-48f2-a87d-f132c8c9b253",
   "metadata": {},
   "outputs": [],
   "source": [
    "# 8 np.where() – Conditional logic Application: Filtering or tagging data.\n",
    "arr = np.array([1, 2, 3, 4])\n",
    "np.where(arr > 2, 'High', 'Low')\n"
   ]
  },
  {
   "cell_type": "code",
   "execution_count": null,
   "id": "6b9948df-353f-4b25-a714-9d003aa88e61",
   "metadata": {},
   "outputs": [],
   "source": [
    "# 9 np.isnan() / np.isfinite() – Handling missing or infinite values Application: Cleaning data.\n",
    "data = np.array([1.0, np.nan, 2.5, np.inf])\n",
    "np.isnan(data)\n",
    "np.isfinite(data)\n"
   ]
  },
  {
   "cell_type": "code",
   "execution_count": null,
   "id": "d6b32a8d-4476-4afa-8a9e-20f50faa0845",
   "metadata": {},
   "outputs": [],
   "source": [
    "# 10 np.random module – Sampling and randomness Application: Bootstrapping, splitting data, simulations.\n",
    "np.random.seed(42)\n",
    "np.random.rand(2, 2)\n",
    "np.random.normal(0, 1, 1000)\n",
    "np.random.choice([1, 2, 3], size=2)\n"
   ]
  },
  {
   "cell_type": "code",
   "execution_count": null,
   "id": "3b22d180-3a8f-4eaa-9cac-bf698ffdb362",
   "metadata": {},
   "outputs": [],
   "source": [
    "# 11 np.unique() – Get unique elements Application: Class labels, categorical encoding.\n",
    "labels = np.array(['cat', 'dog', 'dog', 'cat'])\n",
    "np.unique(labels)\n"
   ]
  },
  {
   "cell_type": "code",
   "execution_count": null,
   "id": "fb6251ad-822f-4c81-8572-138f9aaa9999",
   "metadata": {},
   "outputs": [],
   "source": [
    "# 12 np.concatenate() / np.hstack() / np.vstack() Application: Combining datasets or features.\n",
    "a = np.array([[1, 2]])\n",
    "b = np.array([[3, 4]])\n",
    "np.vstack((a, b))\n"
   ]
  },
  {
   "cell_type": "code",
   "execution_count": null,
   "id": "0382ef8d-f07b-47c3-8623-eccabbe63c2d",
   "metadata": {},
   "outputs": [],
   "source": [
    "# 13 np.argsort(), np.argmax(), np.argmin() Application: Sorting indices, top-K selection.\n",
    "a = np.array([10, 20, 5])\n",
    "print(np.argmax(a))\n",
    "print(np.argsort(a))"
   ]
  },
  {
   "cell_type": "code",
   "execution_count": null,
   "id": "b39cdbe4-1591-46c9-ad02-57af8eaf51cc",
   "metadata": {},
   "outputs": [],
   "source": [
    "# 14 np.corrcoef() – Correlation matrix Application: Feature selection, EDA.\n",
    "x = np.array([[1, 2], [3, 4]])\n",
    "y = np.array([[1, 2], [3, 4]])\n",
    "np.corrcoef(x, y)\n",
    "# !!!!"
   ]
  },
  {
   "cell_type": "code",
   "execution_count": null,
   "id": "1cfbf911-3f18-439f-ae7b-9952a4ca5c3b",
   "metadata": {},
   "outputs": [],
   "source": [
    "# 15 np.eye() / np.identity() – Identity matrices Application: ML algorithms, linear algebra.\n",
    "np.eye(3)\n"
   ]
  },
  {
   "cell_type": "code",
   "execution_count": null,
   "id": "dc4dd1d4-03dd-4ec3-87c1-aa2ce57bf50d",
   "metadata": {},
   "outputs": [],
   "source": [
    "# 16  np.where() Conditional replacement or index lookup\n",
    "a = np.array([1, 2, 3])\n",
    "np.where(a > 1, 'yes', 'no')\n"
   ]
  },
  {
   "cell_type": "code",
   "execution_count": null,
   "id": "b85c54f8-53b7-429f-84ef-931a42f62e9e",
   "metadata": {},
   "outputs": [],
   "source": [
    "# 17 np.percentile() and np.quantile() Percentile-based statistics\n",
    "a = np.array([1, 2, 3, 4])\n",
    "np.percentile(a, 50)\n"
   ]
  },
  {
   "cell_type": "code",
   "execution_count": null,
   "id": "f694a2cf-0790-4b26-8769-161f8b7213f3",
   "metadata": {},
   "outputs": [],
   "source": [
    "# 18 np.apply_along_axis() Apply function along axis\n",
    "a = np.array([[1, 2], [3, 4]])\n",
    "np.apply_along_axis(np.sum, axis=1, arr=a)\n"
   ]
  },
  {
   "cell_type": "code",
   "execution_count": null,
   "id": "5b4c873b-d12c-4ca6-a48d-468a2004ae16",
   "metadata": {},
   "outputs": [],
   "source": [
    "np.invert(np.array([[1,2], [3,4]]))"
   ]
  },
  {
   "cell_type": "code",
   "execution_count": null,
   "id": "cc376910-e9b8-4489-bbdb-572329fb2145",
   "metadata": {},
   "outputs": [],
   "source": [
    "# SVM - SVD \n",
    "np.linalg.eigvals(np.array([[1,2], [3,4]]))"
   ]
  },
  {
   "cell_type": "markdown",
   "id": "d2fb3159-2ac3-4bde-a3f3-aeb864ce692e",
   "metadata": {},
   "source": [
    "### Homework task"
   ]
  },
  {
   "cell_type": "code",
   "execution_count": null,
   "id": "152aa028-1482-4676-a653-fee6b0b56ab1",
   "metadata": {},
   "outputs": [],
   "source": [
    "import math\n",
    "\n",
    "# Vector class\n",
    "class Points(object):\n",
    "    def __init__(self, x, y, z):\n",
    "        self.x = x\n",
    "        self.y = y\n",
    "        self.z = z\n",
    "\n",
    "    def __sub__(self, other):\n",
    "        return Points(self.x - other.x, self.y - other.y, self.z - other.z)\n",
    "\n",
    "    def dot(self, other):\n",
    "        return self.x * other.x + self.y * other.y + self.z * other.z\n",
    "\n",
    "    def cross(self, other):\n",
    "        return Points(\n",
    "            self.y * other.z - self.z * other.y,\n",
    "            self.z * other.x - self.x * other.z,\n",
    "            self.x * other.y - self.y * other.x\n",
    "        )\n",
    "\n",
    "    def absolute(self):\n",
    "        return pow(self.x ** 2 + self.y ** 2 + self.z ** 2, 0.5)\n",
    "\n",
    "\n",
    "# Do not Touch This \n",
    "points = list()\n",
    "for i in range(4):\n",
    "    a = list(map(float, input().split()))\n",
    "    points.append(a)\n",
    "\n",
    "a, b, c, d = Points(*points[0]), Points(*points[1]), Points(*points[2]), Points(*points[3])\n",
    "x = (b - a).cross(c - b)\n",
    "y = (c - b).cross(d - c)\n",
    "angle = math.acos(x.dot(y) / (x.absolute() * y.absolute()))\n",
    "\n",
    "print(\"%.2f\" % math.degrees(angle))\n"
   ]
  }
 ],
 "metadata": {
  "kernelspec": {
   "display_name": "Python 3 (ipykernel)",
   "language": "python",
   "name": "python3"
  },
  "language_info": {
   "codemirror_mode": {
    "name": "ipython",
    "version": 3
   },
   "file_extension": ".py",
   "mimetype": "text/x-python",
   "name": "python",
   "nbconvert_exporter": "python",
   "pygments_lexer": "ipython3",
   "version": "3.9.13"
  }
 },
 "nbformat": 4,
 "nbformat_minor": 5
}
