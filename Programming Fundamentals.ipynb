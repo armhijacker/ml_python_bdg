{
 "cells": [
  {
   "cell_type": "markdown",
   "metadata": {},
   "source": [
    "<h1>Programming Fundamentals: Introduction</h1> <a name=\"intro\"></a>\n",
    "Python can be used with several development environments like <code><b>Spyder, PyCharm, Rodeo, Atom, Jupyter Notebook</b></code>, etc. (for more see, <a><a href=\"https://www.datacamp.com/community/tutorials/data-science-python-ide\">https://www.datacamp.com/community/tutorials/data-science-python-ide</a>).\n",
    "   \n",
    "   We will use <b>Jupyter Notebook</b>.\n",
    "\n",
    "- \"Notebook\" or \"notebook documents\" denote documents that contain both code and rich text elements, such as figures, links, equations, ... Because of the mix of <b>code and text elements</b>, these documents are the ideal place to bring together an analysis description, and its results, as well as, they can be executed to perform the data analysis in real time.The Jupyter Notebook App produces these documents. Jupyter Notebook App allows you to edit and run your notebooks via  web browser. The application can be executed on a PC without Internet access, or it can be installed on a remote server, where you can access it through the Internet.\n",
    "- <b>Opening Jupyter Notebook</b>: In <i>Command Prompt</i> or <i>Anaconda Prompt</i> type <b><code>jupyter notebook</code></b>. Then click to <i>New</i> - <i>Python 3</i>, the JN script will be opened and you can start coding.\n",
    "- The Texts represented here are Formatted with Markdown.\n",
    "  - You can add Pictures to Jupyter Notebook\n",
    "  - You can add Functions with fancy style: $g(x, y) = x + y$\n",
    "\n",
    "![BDG Image](https://bdg.am/wp-content/uploads/2024/11/Asset-3@2x.png)"
   ]
  },
  {
   "cell_type": "markdown",
   "metadata": {},
   "source": [
    "<h5>There are some certain ways of writing and naming variables in Python</h5>\n",
    "\n",
    "- PascalCase\n",
    "- camelCase\n",
    "- kebab-case\n",
    "- snake_case"
   ]
  },
  {
   "cell_type": "markdown",
   "metadata": {},
   "source": [
    "##### When using Markdown, there are certain characters that helps formatting text\n",
    "\n",
    "- \\  - escape character\n",
    "- \\t - tab\n",
    "- \\n - new line\n",
    "- \\b - backspace"
   ]
  },
  {
   "cell_type": "code",
   "execution_count": 4,
   "metadata": {},
   "outputs": [
    {
     "name": "stdout",
     "output_type": "stream",
     "text": [
      " Yerkar Naxadasutyun.\n",
      "\t Nor Parberutyun\n"
     ]
    }
   ],
   "source": [
    "print(\" \\b Yerkar Naxadasutyun.\\n\\t Nor Parberutyun\")"
   ]
  },
  {
   "cell_type": "markdown",
   "metadata": {},
   "source": [
    "<h1>Data types & variables </h1> <a name=\"types\"></a>\n",
    "\n",
    "The basic data types in Python (objects that can store data) are:\n",
    "The basic data types in Python (objects that can store data) are:\n",
    "- [int - stores an integer number](#int)\n",
    "- [float - stores a floating point number (a number with decimals)](#float)\n",
    "- [str - stores a textual string (is always written inside quotes)](#str)\n",
    "- [bool - stores boolean (logical) values (True or False)](#bool) \n",
    "\n",
    "Other data types (such as complex numbers) also exist but are out of the scope of this lecture.\n",
    "<br>\n",
    "To create an object (a variable) in Python **=** sign is used for assignment.\n",
    "- When used, the value on the right will be assigned to the object on the left.\n",
    "- Python allows multiple assignments on the same line as well: a,b = 1,2 (a will become 1 and b will become 2)\n",
    "- **type()** is a built in function which can check the type of an object (int, str etc.).\n",
    "- The data types can also be used as functions to convert the type of a variable (e.g. int(5.7) will produce 5, by extracting an integer from a floating point number).\n",
    "- **print()** function can be used to print the content (value) of an object. If not used, the value of an object will still be shown. Yet, if print() is not used, only the last one of multiple objects will be shown.\n",
    "- **#** (hashtag) sign is used to write comments in Python. Whenever used, anything on the right hand side will become a comment and will not be executed as code.\n",
    "- Each data type in Python has its own operations. For example, substruction operations is available for int but not for str."
   ]
  },
  {
   "cell_type": "markdown",
   "metadata": {},
   "source": [
    "### Overview"
   ]
  },
  {
   "cell_type": "code",
   "execution_count": 9,
   "metadata": {},
   "outputs": [
    {
     "data": {
      "text/plain": [
       "8"
      ]
     },
     "execution_count": 9,
     "metadata": {},
     "output_type": "execute_result"
    }
   ],
   "source": [
    "# 1 is an object in Python\n",
    "8"
   ]
  },
  {
   "cell_type": "code",
   "execution_count": 13,
   "metadata": {},
   "outputs": [
    {
     "name": "stdout",
     "output_type": "stream",
     "text": [
      "8\n",
      "8\n",
      "8\n",
      "5\n",
      "8\n"
     ]
    }
   ],
   "source": [
    "A = 8 \n",
    "print(A) \n",
    "B = A\n",
    "print(B)\n",
    "print(A) \n",
    "A = 5\n",
    "print(A)\n",
    "print(B)"
   ]
  },
  {
   "cell_type": "code",
   "execution_count": 15,
   "metadata": {},
   "outputs": [
    {
     "name": "stdout",
     "output_type": "stream",
     "text": [
      "5\n",
      "8\n",
      "<class 'int'>\n",
      "<class 'int'>\n",
      "<class 'str'>\n"
     ]
    }
   ],
   "source": [
    "print(A)\n",
    "print(B)\n",
    "print(type(A))\n",
    "print(type(B))\n",
    "print(type(\"anton\"))"
   ]
  },
  {
   "cell_type": "code",
   "execution_count": 16,
   "metadata": {},
   "outputs": [
    {
     "name": "stdout",
     "output_type": "stream",
     "text": [
      "<class 'str'>\n"
     ]
    }
   ],
   "source": [
    "# 1 is part of buid-in class \"int\"\n",
    "some_text = \"BDG\"\n",
    "print(type(some_text))"
   ]
  },
  {
   "cell_type": "code",
   "execution_count": 17,
   "metadata": {},
   "outputs": [
    {
     "data": {
      "text/plain": [
       "5"
      ]
     },
     "execution_count": 17,
     "metadata": {},
     "output_type": "execute_result"
    }
   ],
   "source": [
    "# only 2 will be shown (the last one)\n",
    "1\n",
    "2\n",
    "5"
   ]
  },
  {
   "cell_type": "code",
   "execution_count": 18,
   "metadata": {},
   "outputs": [
    {
     "name": "stdout",
     "output_type": "stream",
     "text": [
      "1\n",
      "2\n"
     ]
    },
    {
     "data": {
      "text/plain": [
       "2"
      ]
     },
     "execution_count": 18,
     "metadata": {},
     "output_type": "execute_result"
    }
   ],
   "source": [
    "# as print was used, both 1 and 2 will be shown\n",
    "print(1)\n",
    "print(2)\n",
    "1\n",
    "2"
   ]
  },
  {
   "cell_type": "code",
   "execution_count": 19,
   "metadata": {},
   "outputs": [
    {
     "name": "stdout",
     "output_type": "stream",
     "text": [
      "1\n"
     ]
    }
   ],
   "source": [
    "# assigning 1 value to an object called \"a\"\n",
    "# printing the value\n",
    "a = 1\n",
    "b = a \n",
    "print(b)\n",
    "# =="
   ]
  },
  {
   "cell_type": "code",
   "execution_count": 20,
   "metadata": {},
   "outputs": [
    {
     "data": {
      "text/plain": [
       "int"
      ]
     },
     "execution_count": 20,
     "metadata": {},
     "output_type": "execute_result"
    }
   ],
   "source": [
    "# Type of \"a\" is int\n",
    "type(a)"
   ]
  },
  {
   "cell_type": "code",
   "execution_count": 21,
   "metadata": {},
   "outputs": [],
   "source": [
    "a,b = 2,5\n",
    "some_text, course = \"BDG\", 2"
   ]
  },
  {
   "cell_type": "code",
   "execution_count": 25,
   "metadata": {},
   "outputs": [
    {
     "name": "stdout",
     "output_type": "stream",
     "text": [
      "BDG\n"
     ]
    }
   ],
   "source": [
    "print(some_text)"
   ]
  },
  {
   "cell_type": "code",
   "execution_count": 26,
   "metadata": {},
   "outputs": [
    {
     "name": "stdout",
     "output_type": "stream",
     "text": [
      "1\n",
      "some text\n",
      "3\n"
     ]
    }
   ],
   "source": [
    "# multiple assignments on the same line\n",
    "# sintactic sugar ex (int, str, type, bool -> magic functions)\n",
    "a, b, c = 1, \"some text\", len([1,2,3])\n",
    "print(a)\n",
    "print(b)\n",
    "print(c)"
   ]
  },
  {
   "cell_type": "markdown",
   "metadata": {},
   "source": [
    "## <a name=\"int\" href=\"https://docs.python.org/3.4/library/stdtypes.html#numeric-types-int-float-complex\">Integers</a> \n",
    "\n",
    "Integers (int) are the integer numbers in mathematics and can complete the following operations: summation (+), substruction (-), division (/), multiplication (*), exponentiation (**), modulus (%)."
   ]
  },
  {
   "cell_type": "code",
   "execution_count": 29,
   "metadata": {},
   "outputs": [
    {
     "name": "stdout",
     "output_type": "stream",
     "text": [
      "7\n",
      "3\n",
      "10\n",
      "2.5\n",
      "25 Power\n",
      "1 Module -> 10 = 3 * 3 + 1\n",
      "2 Int Division line 7\n",
      "2 Int Division line 7\n"
     ]
    }
   ],
   "source": [
    "print(5+2) # summation\n",
    "print(5-2) # substruction\n",
    "print(5*2) # multiplication\n",
    "print(5/2) # division\n",
    "print(5**2, \"Power\") # exponentiation\n",
    "print(10%3, \"Module -> 10 = 3 * 3 + 1\") # modulus (gives the residual after division)\n",
    "print(5//2, \"Int Division\", \"line 7\")\n",
    "int_div_value = 5//2\n",
    "print(f\"{int_div_value} Int Division line 7\")"
   ]
  },
  {
   "cell_type": "code",
   "execution_count": 30,
   "metadata": {},
   "outputs": [
    {
     "name": "stdout",
     "output_type": "stream",
     "text": [
      "2.5 is a float number\n",
      "5.0 is a float number\n"
     ]
    }
   ],
   "source": [
    "A = 2.5\n",
    "print(f\"{A} is a float number\")\n",
    "A = 5.0\n",
    "print(f\"{A} is a float number\")"
   ]
  },
  {
   "cell_type": "code",
   "execution_count": 33,
   "metadata": {},
   "outputs": [
    {
     "name": "stdout",
     "output_type": "stream",
     "text": [
      "<class 'str'>\n",
      "<class 'int'>\n",
      "125\n"
     ]
    }
   ],
   "source": [
    "str_number = \"125\"\n",
    "print(type(str_number))\n",
    "number = int(str_number)\n",
    "print(type(number))\n",
    "print(number)"
   ]
  },
  {
   "cell_type": "code",
   "execution_count": 34,
   "metadata": {},
   "outputs": [
    {
     "name": "stdout",
     "output_type": "stream",
     "text": [
      "2\n",
      "3\n"
     ]
    }
   ],
   "source": [
    "float_numb = 2.569\n",
    "int_num = int(float_numb)\n",
    "print(int_num)\n",
    "print(round(float_numb))"
   ]
  },
  {
   "cell_type": "markdown",
   "metadata": {},
   "source": [
    "## <a name=\"float\" href=\"https://docs.python.org/3.4/library/stdtypes.html#numeric-types-int-float-complex\">Float </a>\n",
    "\n",
    "Floats (float) are the floating point (decimal) numbers. For example, 2.5. The operations applied on floating point numbers are the same as on integers. One may convert float to an int and viceversa using same name functions. When int is converted to float, just a \".0\" will be added to visually indicate it is a floating point number. Yet, when float is converted to int, only integer part will be left (i.e. no rounding up operation will be conducted). For example, int(5.9) will result in 5 (not 6)."
   ]
  },
  {
   "cell_type": "code",
   "execution_count": 35,
   "metadata": {},
   "outputs": [
    {
     "data": {
      "text/plain": [
       "int"
      ]
     },
     "execution_count": 35,
     "metadata": {},
     "output_type": "execute_result"
    }
   ],
   "source": [
    "var_int = 5\n",
    "type(var_int)"
   ]
  },
  {
   "cell_type": "code",
   "execution_count": 36,
   "metadata": {},
   "outputs": [
    {
     "data": {
      "text/plain": [
       "float"
      ]
     },
     "execution_count": 36,
     "metadata": {},
     "output_type": "execute_result"
    }
   ],
   "source": [
    "var_float = 5.9\n",
    "type(var_float)"
   ]
  },
  {
   "cell_type": "code",
   "execution_count": 37,
   "metadata": {},
   "outputs": [
    {
     "data": {
      "text/plain": [
       "5.0"
      ]
     },
     "execution_count": 37,
     "metadata": {},
     "output_type": "execute_result"
    }
   ],
   "source": [
    "float(var_int)"
   ]
  },
  {
   "cell_type": "code",
   "execution_count": 38,
   "metadata": {},
   "outputs": [
    {
     "data": {
      "text/plain": [
       "-5.0"
      ]
     },
     "execution_count": 38,
     "metadata": {},
     "output_type": "execute_result"
    }
   ],
   "source": [
    "float(-5)"
   ]
  },
  {
   "cell_type": "code",
   "execution_count": 39,
   "metadata": {},
   "outputs": [
    {
     "ename": "ValueError",
     "evalue": "could not convert string to float: 'Napastak'",
     "output_type": "error",
     "traceback": [
      "\u001b[1;31m---------------------------------------------------------------------------\u001b[0m",
      "\u001b[1;31mValueError\u001b[0m                                Traceback (most recent call last)",
      "Cell \u001b[1;32mIn[39], line 1\u001b[0m\n\u001b[1;32m----> 1\u001b[0m \u001b[38;5;28;43mfloat\u001b[39;49m\u001b[43m(\u001b[49m\u001b[38;5;124;43m\"\u001b[39;49m\u001b[38;5;124;43mNapastak\u001b[39;49m\u001b[38;5;124;43m\"\u001b[39;49m\u001b[43m)\u001b[49m\n",
      "\u001b[1;31mValueError\u001b[0m: could not convert string to float: 'Napastak'"
     ]
    }
   ],
   "source": [
    "float(\"Napastak\")"
   ]
  },
  {
   "cell_type": "markdown",
   "metadata": {},
   "source": [
    "## Built-in functions for basic numerical (mathematical) operations\n",
    "Some built-in functions used in math are abs(), max(), min(), pow(), round(). There is no explicit function to calculate square root, but one can use pow() or \"**\" operation to do that."
   ]
  },
  {
   "cell_type": "code",
   "execution_count": 40,
   "metadata": {},
   "outputs": [
    {
     "name": "stdout",
     "output_type": "stream",
     "text": [
      "abs 5\n",
      "max 9\n",
      "max list 9\n",
      "min -5\n",
      "pow 8\n",
      "round 6.778\n",
      "sum 11\n",
      "452.256\n"
     ]
    }
   ],
   "source": [
    "print('abs', abs(-5)) # calculating absolute value\n",
    "print('max', max(3, -5, 9)) # calculating max value\n",
    "print('max list', max([5,8,9,1])) # get max value of list\n",
    "print('min', min(4, -4, -5, 0)) # calculating min value\n",
    "print('pow', pow(2, 3)) # taking power up\n",
    "print('round', round(6.7777777, 3)) # rounding up to 3 decimals\n",
    "print('sum', sum((5, 4, 2)))\n",
    "\n",
    "print(round(452.2555546464648, 3))\n",
    "# 2.5 -> 2 Gaussian Rounding\n",
    "# 3.5 -> 4\n",
    "\n",
    "# Syntactic sugar "
   ]
  },
  {
   "cell_type": "code",
   "execution_count": 45,
   "metadata": {},
   "outputs": [
    {
     "name": "stdout",
     "output_type": "stream",
     "text": [
      "\n",
      "eqefiquegfiqegfiqegfigefigefiqegfq\n",
      "Arjequewgfiqgefiqwefg''egufq'g'\n",
      "evfiqevfqefi'\n",
      "qhefvuqefvif \n",
      "\n"
     ]
    }
   ],
   "source": [
    "a = f'''\n",
    "eqefiquegfiqegfiqegfigefigefiqegfq\n",
    "{\"Arjeq\"} uewgfiqgefiqwefg''egufq'g'\n",
    "evfiqevfqefi'\n",
    "qhefvuqefvif \n",
    "'''\n",
    "print(a)"
   ]
  },
  {
   "cell_type": "markdown",
   "metadata": {},
   "source": [
    "## <a name=\"str\" href=\"https://docs.python.org/3.4/library/stdtypes.html#text-sequence-type-str\">Strings</a>\n",
    "\n",
    "Strings (str) are the textual objects. They are always written inside single or double quotes. Strings are \"stronger\" type than numerical data types, as any numeric value can be also stored as string (e.g. \"5\" is a string), yet NOT any string can be stored as an integer or a float (e.g. \"text\" cannot anyhow be converted to a numeric value, yet 10 can be converted to string with quotes: \"10\").\n",
    "\n",
    "- The strings in Python can be summed up with each other. Summation of strings yield to their concationation.\n",
    "- Strings can also be multiplied with integers which will yield the repition of strings.\n",
    "- Elements (characters) from a string can be selected using square brackets. As the enumeration in Python starts from 0, the very first character can be selecte dusing [0]. The last character can be selected using [-1].\n"
   ]
  },
  {
   "cell_type": "code",
   "execution_count": 46,
   "metadata": {},
   "outputs": [
    {
     "data": {
      "text/plain": [
       "str"
      ]
     },
     "execution_count": 46,
     "metadata": {},
     "output_type": "execute_result"
    }
   ],
   "source": [
    "name = \"Karen\"\n",
    "type(name)"
   ]
  },
  {
   "cell_type": "code",
   "execution_count": 50,
   "metadata": {},
   "outputs": [
    {
     "data": {
      "text/plain": [
       "'Ka'"
      ]
     },
     "execution_count": 50,
     "metadata": {},
     "output_type": "execute_result"
    }
   ],
   "source": [
    "name[:2]"
   ]
  },
  {
   "cell_type": "code",
   "execution_count": 48,
   "metadata": {},
   "outputs": [
    {
     "data": {
      "text/plain": [
       "'ar'"
      ]
     },
     "execution_count": 48,
     "metadata": {},
     "output_type": "execute_result"
    }
   ],
   "source": [
    "name[1:3]"
   ]
  },
  {
   "cell_type": "code",
   "execution_count": 53,
   "metadata": {},
   "outputs": [
    {
     "data": {
      "text/plain": [
       "'neraK'"
      ]
     },
     "execution_count": 53,
     "metadata": {},
     "output_type": "execute_result"
    }
   ],
   "source": [
    "# reverse Ordering\n",
    "name[::-1]"
   ]
  },
  {
   "cell_type": "code",
   "execution_count": 56,
   "metadata": {},
   "outputs": [
    {
     "name": "stdout",
     "output_type": "stream",
     "text": [
      "7\n"
     ]
    }
   ],
   "source": [
    "var_str = \"7\"\n",
    "var_str_v1 = int(var_str)\n",
    "print( var_str_v1)"
   ]
  },
  {
   "cell_type": "code",
   "execution_count": 57,
   "metadata": {},
   "outputs": [
    {
     "data": {
      "text/plain": [
       "7"
      ]
     },
     "execution_count": 57,
     "metadata": {},
     "output_type": "execute_result"
    }
   ],
   "source": [
    "# converted a string (with numerical value) to an integer\n",
    "int(var_str)"
   ]
  },
  {
   "cell_type": "code",
   "execution_count": 58,
   "metadata": {},
   "outputs": [
    {
     "ename": "ValueError",
     "evalue": "invalid literal for int() with base 10: 'Karen'",
     "output_type": "error",
     "traceback": [
      "\u001b[1;31m---------------------------------------------------------------------------\u001b[0m",
      "\u001b[1;31mValueError\u001b[0m                                Traceback (most recent call last)",
      "Cell \u001b[1;32mIn[58], line 2\u001b[0m\n\u001b[0;32m      1\u001b[0m \u001b[38;5;66;03m# trying to convert textual value to an integer yields an error\u001b[39;00m\n\u001b[1;32m----> 2\u001b[0m \u001b[38;5;28;43mint\u001b[39;49m\u001b[43m(\u001b[49m\u001b[43mname\u001b[49m\u001b[43m)\u001b[49m\n",
      "\u001b[1;31mValueError\u001b[0m: invalid literal for int() with base 10: 'Karen'"
     ]
    }
   ],
   "source": [
    "# trying to convert textual value to an integer yields an error\n",
    "int(name)"
   ]
  },
  {
   "cell_type": "code",
   "execution_count": 59,
   "metadata": {},
   "outputs": [
    {
     "data": {
      "text/plain": [
       "[6, 2, 5]"
      ]
     },
     "execution_count": 59,
     "metadata": {},
     "output_type": "execute_result"
    }
   ],
   "source": [
    "# reverse the list\n",
    "list_of_num = [5, 2, 6]\n",
    "list_of_num[::-1]"
   ]
  },
  {
   "cell_type": "code",
   "execution_count": 60,
   "metadata": {},
   "outputs": [
    {
     "data": {
      "text/plain": [
       "'Karen Bacarat Karen'"
      ]
     },
     "execution_count": 60,
     "metadata": {},
     "output_type": "execute_result"
    }
   ],
   "source": [
    "name + \" Bacarat \" + name"
   ]
  },
  {
   "cell_type": "code",
   "execution_count": 61,
   "metadata": {},
   "outputs": [
    {
     "name": "stdout",
     "output_type": "stream",
     "text": [
      "Karen Karen Ayvazyan\n"
     ]
    }
   ],
   "source": [
    "print(name + \" \" + name +\" \" + \"Ayvazyan\")"
   ]
  },
  {
   "cell_type": "code",
   "execution_count": 64,
   "metadata": {},
   "outputs": [
    {
     "data": {
      "text/plain": [
       "'Karen Karen Karen &7'"
      ]
     },
     "execution_count": 64,
     "metadata": {},
     "output_type": "execute_result"
    }
   ],
   "source": [
    "(name + \" \") * 3 + (\"&\" + \"7\")"
   ]
  },
  {
   "cell_type": "markdown",
   "metadata": {},
   "source": [
    "## <a name=\"bool\" href=\"https://docs.python.org/3.4/library/stdtypes.html#truth-value-testing\">Boolean</a>\n",
    "\n",
    "Boolean (bool) objects attain only two values: True or False. False is encoded as 0 and True is encoded as 1 in Python. Booleans are usually the result of comparison or logical operations. Those operations are:\n",
    "\n",
    "- **==** - equivalence. Yields True if the value on the left equals to the value on the right, and False otherwise.  \n",
    "- **!=** - not equivalent. Yields True if value on the left is not equal to the value on the right. \n",
    "- **in** - test whether the value on the left can be found inside the object on the right\n",
    "- **not** - negation operation, can be used with **in**\n",
    "- **and** - and operator to combine two or more conditions. Both should be satified to yield True.\n",
    "  - **&** sign should be used instead of **and** when arrays (vectors) are tested for conditions.\n",
    "- **or** - or operator to combine two or more conditions. Yields True even if one of the conditions is satisfied.\n",
    "  - **|** sign should be used instead of **or** when arrays (vectors) are tested for conditions.\n",
    "- **<** - less than\n",
    "- **<=** - less than or equal to\n",
    "- **>** - greater than\n",
    "- **>=** - greater than or equal to  "
   ]
  },
  {
   "cell_type": "code",
   "execution_count": 65,
   "metadata": {},
   "outputs": [
    {
     "name": "stdout",
     "output_type": "stream",
     "text": [
      "Not Equal\n"
     ]
    }
   ],
   "source": [
    "if \"Karen\"==\"karen\":\n",
    "    print(\"Karen\"*5)\n",
    "else:\n",
    "    print(\"Not Equal\")\n",
    "    "
   ]
  },
  {
   "cell_type": "code",
   "execution_count": 68,
   "metadata": {},
   "outputs": [
    {
     "data": {
      "text/plain": [
       "True"
      ]
     },
     "execution_count": 68,
     "metadata": {},
     "output_type": "execute_result"
    }
   ],
   "source": [
    "# \"Karen\"!=\"karen\"\n",
    "\"Karen\" not in [\"karen\"]"
   ]
  },
  {
   "cell_type": "code",
   "execution_count": 72,
   "metadata": {},
   "outputs": [
    {
     "data": {
      "text/plain": [
       "['Karen', 'Manukyan']"
      ]
     },
     "execution_count": 72,
     "metadata": {},
     "output_type": "execute_result"
    }
   ],
   "source": [
    "\"Karen Manukyan\".split(sep=\" \")"
   ]
  },
  {
   "cell_type": "code",
   "execution_count": 71,
   "metadata": {},
   "outputs": [
    {
     "data": {
      "text/plain": [
       "True"
      ]
     },
     "execution_count": 71,
     "metadata": {},
     "output_type": "execute_result"
    }
   ],
   "source": [
    "\"K\" not in \"Karen\".split()"
   ]
  },
  {
   "cell_type": "code",
   "execution_count": 73,
   "metadata": {},
   "outputs": [
    {
     "data": {
      "text/plain": [
       "['Karen', 'Sahakyan']"
      ]
     },
     "execution_count": 73,
     "metadata": {},
     "output_type": "execute_result"
    }
   ],
   "source": [
    "\"Karen-Sahakyan\".split(sep='-')"
   ]
  },
  {
   "cell_type": "code",
   "execution_count": null,
   "metadata": {},
   "outputs": [],
   "source": [
    "Y"
   ]
  },
  {
   "cell_type": "code",
   "execution_count": 74,
   "metadata": {},
   "outputs": [
    {
     "data": {
      "text/plain": [
       "False"
      ]
     },
     "execution_count": 74,
     "metadata": {},
     "output_type": "execute_result"
    }
   ],
   "source": [
    "5>5"
   ]
  },
  {
   "cell_type": "code",
   "execution_count": 75,
   "metadata": {},
   "outputs": [
    {
     "data": {
      "text/plain": [
       "True"
      ]
     },
     "execution_count": 75,
     "metadata": {},
     "output_type": "execute_result"
    }
   ],
   "source": [
    "5>=5"
   ]
  },
  {
   "cell_type": "code",
   "execution_count": 76,
   "metadata": {},
   "outputs": [
    {
     "data": {
      "text/plain": [
       "True"
      ]
     },
     "execution_count": 76,
     "metadata": {},
     "output_type": "execute_result"
    }
   ],
   "source": [
    "5<6"
   ]
  },
  {
   "cell_type": "code",
   "execution_count": 77,
   "metadata": {},
   "outputs": [
    {
     "data": {
      "text/plain": [
       "True"
      ]
     },
     "execution_count": 77,
     "metadata": {},
     "output_type": "execute_result"
    }
   ],
   "source": [
    "5<=6"
   ]
  },
  {
   "cell_type": "markdown",
   "metadata": {},
   "source": [
    "# <a href=\"https://docs.python.org/3.4/library/stdtypes.html#string-methods\">String methods</a>\n",
    "\n",
    "Each object type has its own operations. Similarly each object has its own functionalities that are available only for that object. Those functions are called methods and are available after insteading a dot following object's name. Several of string methods are:\n",
    "- upper() - makes the string uppercase\n",
    "- lower() - makes the string lowercase\n",
    "- find() - finds a given charater in a string. Returns its index or -1 if not found\n",
    "- split() - splits the sting based on a given character\n",
    "- count() - counts the numer of occurancies of a given character\n",
    "- many other methods which can be accessed after inserting the dot and pressing TAB "
   ]
  },
  {
   "cell_type": "code",
   "execution_count": 78,
   "metadata": {},
   "outputs": [],
   "source": [
    "my_str = \"Galstyan\""
   ]
  },
  {
   "cell_type": "code",
   "execution_count": 79,
   "metadata": {},
   "outputs": [
    {
     "name": "stdout",
     "output_type": "stream",
     "text": [
      "GALSTYAN\n"
     ]
    }
   ],
   "source": [
    "print(f\"{my_str.upper()}\")"
   ]
  },
  {
   "cell_type": "code",
   "execution_count": 80,
   "metadata": {},
   "outputs": [
    {
     "name": "stdout",
     "output_type": "stream",
     "text": [
      "galstyan\n"
     ]
    }
   ],
   "source": [
    "print(f\"{my_str.lower()}\")"
   ]
  },
  {
   "cell_type": "code",
   "execution_count": 81,
   "metadata": {},
   "outputs": [
    {
     "name": "stdout",
     "output_type": "stream",
     "text": [
      "5\n"
     ]
    }
   ],
   "source": [
    "print(f\"{my_str.find('y')}\")"
   ]
  },
  {
   "cell_type": "code",
   "execution_count": 82,
   "metadata": {},
   "outputs": [
    {
     "name": "stdout",
     "output_type": "stream",
     "text": [
      "-1\n"
     ]
    }
   ],
   "source": [
    "print(f\"{my_str.find('o')}\")"
   ]
  },
  {
   "cell_type": "code",
   "execution_count": 83,
   "metadata": {},
   "outputs": [
    {
     "name": "stdout",
     "output_type": "stream",
     "text": [
      "['The', 'answer', 'to', 'the', 'question', 'you', 'asked—which', 'Ill', 'rephrase', 'a', 'bit', 'as', '', 'no,', 'you', 'dont', 'have', 'to', 'set', 'an', 'upstream', 'at', 'all.']\n"
     ]
    }
   ],
   "source": [
    "# split the string based on the 'key' \n",
    "st = 'The answer to the question you asked—which Ill rephrase a bit as  no, you dont have to set an upstream at all.'\n",
    "decomposed_str = st.split(\" \")\n",
    "print(decomposed_str)"
   ]
  },
  {
   "cell_type": "code",
   "execution_count": 84,
   "metadata": {},
   "outputs": [
    {
     "data": {
      "text/plain": [
       "2"
      ]
     },
     "execution_count": 84,
     "metadata": {},
     "output_type": "execute_result"
    }
   ],
   "source": [
    "#count how many types 'a' appears in the text\n",
    "my_str.count(\"a\")"
   ]
  },
  {
   "cell_type": "code",
   "execution_count": 86,
   "metadata": {},
   "outputs": [
    {
     "name": "stdout",
     "output_type": "stream",
     "text": [
      "The////answer////to////the////question////you////asked—which////Ill////rephrase////a////bit////as////////no,////you////dont////have////to////set////an////upstream////at////all.\n"
     ]
    }
   ],
   "source": [
    "new_st = '////'.join(decomposed_str)\n",
    "print(new_st)"
   ]
  },
  {
   "cell_type": "code",
   "execution_count": null,
   "metadata": {},
   "outputs": [],
   "source": []
  },
  {
   "cell_type": "code",
   "execution_count": null,
   "metadata": {},
   "outputs": [],
   "source": [
    "%%time\n",
    "letter = input(\"Please insert some value:\")\n",
    "print(type(letter))\n",
    "\n",
    "Y = letter if letter.lower()[0] ==\"k\" else \"Name Doesn't start with k\""
   ]
  },
  {
   "cell_type": "code",
   "execution_count": null,
   "metadata": {},
   "outputs": [],
   "source": [
    "%%time\n",
    "letter = input(\"Please insert some value:\")\n",
    "print(type(letter))\n",
    "\n",
    "if letter.lower()[0] == \"k\":\n",
    "    print(letter)\n",
    "else:\n",
    "    print(\"Name Doesn't start with k\")\n",
    "    \n",
    "print(Y)"
   ]
  }
 ],
 "metadata": {
  "kernelspec": {
   "display_name": "Python 3 (ipykernel)",
   "language": "python",
   "name": "python3"
  },
  "language_info": {
   "codemirror_mode": {
    "name": "ipython",
    "version": 3
   },
   "file_extension": ".py",
   "mimetype": "text/x-python",
   "name": "python",
   "nbconvert_exporter": "python",
   "pygments_lexer": "ipython3",
   "version": "3.9.13"
  }
 },
 "nbformat": 4,
 "nbformat_minor": 4
}
