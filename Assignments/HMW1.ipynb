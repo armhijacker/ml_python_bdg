{
 "cells": [
  {
   "cell_type": "markdown",
   "id": "3b8395ad-6556-4556-9754-8b005e3986dd",
   "metadata": {},
   "source": [
    "#### 1. Data Types\n",
    "\n",
    "**Task:**\n",
    "\n",
    "---\n",
    "Store your name (string), age (integer), height (float), and student status (boolean). Print each one on a new line.\n",
    "\n",
    "Hint: Use variables and the `print()` function.\n",
    "\n",
    "**Advanced:**\n",
    "\n",
    "---\n",
    "Print a single formatted sentence like:\n",
    "\"Hi, my name is Alice. I am 23 years old, 1.65 meters tall, and it is True that I am a student.\"\n",
    "\n",
    "Hint: Use `f-strings` or `.format()` for better practice."
   ]
  },
  {
   "cell_type": "code",
   "execution_count": null,
   "id": "4c91f446-875f-4911-a85b-1ca2e183f745",
   "metadata": {},
   "outputs": [],
   "source": [
    "# Example placeholders:\n",
    "name = \"\"\n",
    "age = 0\n",
    "height = 0.0\n",
    "is_student = False\n",
    "\n",
    "# Print each variable\n"
   ]
  },
  {
   "cell_type": "markdown",
   "id": "a8d97486-31a4-44dc-ad42-6172777d264c",
   "metadata": {},
   "source": [
    "#### 2. Type Conversion\n",
    "\n",
    "**Task:**\n",
    "\n",
    "---\n",
    "Ask the user for their birth year (as a string). Convert it to an integer and calculate their age.\n",
    "\n",
    "Hint: Use `input()`, `int()`, and basic math.\n",
    "\n",
    "**Advanced:**\n",
    "\n",
    "---\n",
    "Check if birth year is a reasonable year (between 1900 and 2025). If the year is not valid, print an error.\n",
    "\n",
    "Hint: Use `if` to validate after converting."
   ]
  },
  {
   "cell_type": "code",
   "execution_count": null,
   "id": "7a5f8998-829b-4518-ab89-1f4ac63b8651",
   "metadata": {},
   "outputs": [],
   "source": [
    "# Example placeholders:\n",
    "birth_year = input(\"Enter your birth year: \")\n",
    "# Convert birth_year to integer\n",
    "# Calculate age (e.g., 2025 - birth_year)\n",
    "# Print the age\n"
   ]
  },
  {
   "cell_type": "markdown",
   "id": "074e53b0-e2d3-4365-81c7-dec2d452423e",
   "metadata": {},
   "source": [
    "#### 3. Conditional Statements (Control Flow)\n",
    "\n",
    "**Task:**\n",
    "\n",
    "---\n",
    "Ask for a number. Print whether it is positive, negative, or zero.\n",
    "\n",
    "Hint: Use `if`, `elif`, and `else`.\n",
    "\n",
    "**Advanced:**\n",
    "\n",
    "---\n",
    "Tell if the input number is even or odd.\n",
    "\n",
    "Hint: Use `% 2 == 0` to check evenness."
   ]
  },
  {
   "cell_type": "code",
   "execution_count": null,
   "id": "644ef321-96f0-4601-a81a-30fe8ec4a1c7",
   "metadata": {},
   "outputs": [],
   "source": [
    "# Example placeholders:\n",
    "number = int(input(\"Enter a number: \"))\n",
    "\n",
    "# Check if number > 0\n",
    "# Check if number < 0\n",
    "# Otherwise, it must be 0\n"
   ]
  },
  {
   "cell_type": "markdown",
   "id": "4042fcf8-6b56-4c63-ac42-ba17951016dc",
   "metadata": {},
   "source": [
    "#### 4. If-Else Chains (Grades)\n",
    "\n",
    "**Task:**\n",
    "\n",
    "---\n",
    "Ask the user for a grade (0–100). Print \"A\", \"B\", \"C\", \"D\", or \"F\".\n",
    "\n",
    "Hint: Multiple `if-elif-else` statements; use comparison operators."
   ]
  },
  {
   "cell_type": "code",
   "execution_count": null,
   "id": "0016638c-9a63-4644-81af-11c2eb01ff9d",
   "metadata": {},
   "outputs": [],
   "source": [
    "# Example placeholders:\n",
    "score = int(input(\"Enter your score (0-100): \"))\n",
    "\n",
    "# if score >= 90\n",
    "# elif score >= 80\n",
    "# elif score >= 70\n",
    "# elif score >= 60\n",
    "# else\n"
   ]
  },
  {
   "cell_type": "markdown",
   "id": "8dd29fb9-73f9-4f06-954e-9213dd3c1600",
   "metadata": {},
   "source": [
    "#### 5. For Loop (Counting)\n",
    "\n",
    "**Task:**\n",
    "\n",
    "---\n",
    "Print squares of the numbers from 1 to 10 using a for loop.\n",
    "\n",
    "Hint: Use `range(start, stop)`.\n",
    "\n",
    "**Advanced:**\n",
    "\n",
    "---\n",
    "Print numbers from 1 to 20, but:\n",
    "\n",
    "- Print \"Fizz\" instead of multiples of 3.\n",
    "- Print \"Buzz\" instead of multiples of 5.\n",
    "- Print \"FizzBuzz\" for multiples of both.\n",
    "\n",
    "Hint: Use `if`, `elif`, `else`."
   ]
  },
  {
   "cell_type": "code",
   "execution_count": null,
   "id": "e0d3c340-b5e7-48b0-bbaa-959f5fc75a44",
   "metadata": {},
   "outputs": [],
   "source": [
    "# Example placeholders:\n",
    "for i in range(1, 11):\n",
    "    # Print i ** 2\n",
    "\n",
    "    # Then\n",
    "    # if divisible by 3 and 5\n",
    "    # elif divisible by 3\n",
    "    # elif divisible by 5\n",
    "    # else print number\n",
    "\n"
   ]
  },
  {
   "cell_type": "markdown",
   "id": "df862e4d-ea1d-41cc-95cf-8c027245b82c",
   "metadata": {},
   "source": [
    "#### 6. While Loop Password\n",
    "\n",
    "**Task:**\n",
    "\n",
    "---\n",
    "Ask the user for a password. Repeat until they type `\"python123\"`.\n",
    "\n",
    "Hint: Use a `while` loop and compare input to the correct password."
   ]
  },
  {
   "cell_type": "code",
   "execution_count": null,
   "id": "969d950e-3315-445c-a078-f5e32f539604",
   "metadata": {},
   "outputs": [],
   "source": [
    "# Example placeholders:\n",
    "password = \"\"\n",
    "\n",
    "# while password is not \"python123\"\n",
    "    # Ask for input again\n",
    "# Print \"Access granted!\"\n"
   ]
  },
  {
   "cell_type": "markdown",
   "id": "734faaf0-b55a-4db7-b5fa-be355b733c66",
   "metadata": {},
   "source": [
    "#### 7. Lists and Indexing\n",
    "\n",
    "**Task:**\n",
    "\n",
    "---\n",
    "Create a list of 5 favorite foods. Print the first and last items.\n",
    "\n",
    "Hint: Lists use `[ ]` brackets; index `0` is the first element, `-1` is the last.\n",
    "\n",
    "**Advanced:**\n",
    "\n",
    "---\n",
    "Then:\n",
    "* Add a book the user suggests.\n",
    "* Remove a book if the user dislikes one.\n",
    "* Check if a specific book (\"Rich Dad Poor Dad\") is in your list.\n",
    "  \n",
    "Hint: Use `append()`, `remove()`, and `in`."
   ]
  },
  {
   "cell_type": "code",
   "execution_count": null,
   "id": "a1035bc4-6be1-4b80-a984-53dbbe50841a",
   "metadata": {},
   "outputs": [],
   "source": [
    "# Placeholders:\n",
    "book = [\"\", \"\", \"\", \"\", \"\"]\n",
    "# Print first item (index 0)\n",
    "# Print last item (index -1) \n",
    "\n",
    "# Then\n",
    "# Add book\n",
    "# Remove book\n",
    "# Search for \"Rich Dad Poor Dad\"\n"
   ]
  },
  {
   "cell_type": "markdown",
   "id": "833a662a-1f09-43ee-a27a-6ee198cbc8dd",
   "metadata": {},
   "source": [
    "#### 8. Tuples (Immutable Containers)\n",
    "\n",
    "**Task:**\n",
    "\n",
    "---\n",
    "Create a tuple of 3 cities you want to visit. Try changing one element and observe the error.\n",
    "\n",
    "Hint: Tuples are created with `( )` and are immutable (can't change items).\n",
    "\n",
    "**Advanced:**\n",
    "\n",
    "---\n",
    "Then\n",
    "- Convert it into a list.\n",
    "- Add a fourth city.\n",
    "- Then convert it back to a tuple.\n",
    "\n",
    "Hint: Use `list()` and `tuple()` functions."
   ]
  },
  {
   "cell_type": "code",
   "execution_count": null,
   "id": "015731a5-e10e-4bf2-8346-4627a258fd91",
   "metadata": {},
   "outputs": [],
   "source": [
    "# Example placeholders:\n",
    "cities = (\"Paris\", \"Tokyo\", \"New York\")\n",
    "\n",
    "# Try something like: cities[1] = \"London\"\n",
    "\n",
    "# Then\n",
    "# Convert to list\n",
    "# Add new animal\n",
    "# Convert back to tuple"
   ]
  },
  {
   "cell_type": "markdown",
   "id": "a5ea8873-33c4-4c36-a0fb-1657a246002f",
   "metadata": {},
   "source": [
    "#### 9. Dictionaries with Input\n",
    "\n",
    "**Task:**\n",
    "\n",
    "---\n",
    "Create a dictionary where 3 countries are keys and their capitals are values. Print them.\n",
    "\n",
    "Hint: Dictionaries use `{key: value}` syntax."
   ]
  },
  {
   "cell_type": "code",
   "execution_count": null,
   "id": "55d6cb21-dfd4-49c1-babf-503df1595c2a",
   "metadata": {},
   "outputs": [],
   "source": [
    "# Placeholders:\n",
    "capitals = {\"France\": \"Paris\", \"Japan\": \"Tokyo\", \"USA\": \"Washington D.C.\"}\n",
    "\n",
    "# Loop over items and print country and capital\n"
   ]
  },
  {
   "cell_type": "markdown",
   "id": "5cb2c3c0-61aa-4ea2-90fa-5d5fff26afa2",
   "metadata": {},
   "source": [
    "#### 10. Sets\n",
    "\n",
    "**Task:**\n",
    "\n",
    "---\n",
    "Create two sets: favorite fruits and disliked fruits. Find the difference (favorite but not disliked).\n",
    "\n",
    "Hint: Use `set()` and `set.difference()` or `-` operator."
   ]
  },
  {
   "cell_type": "code",
   "execution_count": null,
   "id": "6e0a6f62-5e1c-4035-bdb9-bc911a55114a",
   "metadata": {},
   "outputs": [],
   "source": [
    "# Example placeholders:\n",
    "favorite_fruits = {\"apple\", \"banana\", \"mango\"}\n",
    "disliked_fruits = {\"grapefruit\", \"banana\", \"durian\"}\n",
    "\n",
    "# Find fruits you like but don't dislike\n"
   ]
  }
 ],
 "metadata": {
  "kernelspec": {
   "display_name": "Python 3 (ipykernel)",
   "language": "python",
   "name": "python3"
  },
  "language_info": {
   "codemirror_mode": {
    "name": "ipython",
    "version": 3
   },
   "file_extension": ".py",
   "mimetype": "text/x-python",
   "name": "python",
   "nbconvert_exporter": "python",
   "pygments_lexer": "ipython3",
   "version": "3.9.13"
  }
 },
 "nbformat": 4,
 "nbformat_minor": 5
}
