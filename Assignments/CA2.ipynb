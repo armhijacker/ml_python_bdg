{
 "cells": [
  {
   "cell_type": "code",
   "execution_count": 1,
   "id": "045fea3d-abd2-4bc6-848c-a437afbbc060",
   "metadata": {},
   "outputs": [],
   "source": [
    "import pandas as pd"
   ]
  },
  {
   "cell_type": "code",
   "execution_count": 3,
   "id": "8e06bca9-e0e7-4b4c-b228-89d8c00b1631",
   "metadata": {},
   "outputs": [],
   "source": [
    "# Task 1. \n",
    "# Read CSV File - winequality.csv\n",
    "# Print first and last 10 elements of your dataset\n",
    "# Print Column names and Shape of DataFrame"
   ]
  },
  {
   "cell_type": "code",
   "execution_count": null,
   "id": "9400fccd-be88-4222-81da-913b6d1f4809",
   "metadata": {},
   "outputs": [],
   "source": []
  },
  {
   "cell_type": "code",
   "execution_count": null,
   "id": "2d5fb990-fa4b-4345-ade2-e845f95eb1f2",
   "metadata": {},
   "outputs": [],
   "source": [
    "# Task 2. \n",
    "# Check data for Duplicates and Missing Values\n",
    "# Check column info for datatypes\n",
    "# Get Descriptive statistics of the Data"
   ]
  },
  {
   "cell_type": "code",
   "execution_count": null,
   "id": "15f47e64-a7b8-4bde-9cf7-a6eb42708e84",
   "metadata": {},
   "outputs": [],
   "source": []
  },
  {
   "cell_type": "code",
   "execution_count": null,
   "id": "2ed6f312-8101-4e6f-a9ea-c21439ebe13a",
   "metadata": {},
   "outputs": [],
   "source": [
    "# Task 3. \n",
    "# Count how many wines have a quality score of exactly 5.\n",
    "# Find the wine with the highest sulphates value.\n",
    "# What is the most common value of free sulfur dioxide?\n",
    "# Add a new column \"quality_label\" with values: 'low' if quality < 5, 'medium' if 5–6, 'high' if > 6. (USE APPLY METHOD)"
   ]
  },
  {
   "cell_type": "code",
   "execution_count": null,
   "id": "c0e4512c-0ddb-49a2-98dc-32486a664f9b",
   "metadata": {},
   "outputs": [],
   "source": []
  },
  {
   "cell_type": "code",
   "execution_count": null,
   "id": "7a583abf-8443-406f-b609-745e884fab2e",
   "metadata": {},
   "outputs": [],
   "source": [
    "# Task 4.\n",
    "# Group by quality and compute the average alcohol level.\n",
    "# Filter and show all wines with pH less than 3.0 and sulphates greater than 0.6.\n",
    "# Sort the dataset by quality (descending) and then by alcohol (descending)."
   ]
  }
 ],
 "metadata": {
  "kernelspec": {
   "display_name": "Python 3 (ipykernel)",
   "language": "python",
   "name": "python3"
  },
  "language_info": {
   "codemirror_mode": {
    "name": "ipython",
    "version": 3
   },
   "file_extension": ".py",
   "mimetype": "text/x-python",
   "name": "python",
   "nbconvert_exporter": "python",
   "pygments_lexer": "ipython3",
   "version": "3.9.13"
  }
 },
 "nbformat": 4,
 "nbformat_minor": 5
}
