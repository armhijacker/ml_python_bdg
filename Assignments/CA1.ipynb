{
 "cells": [
  {
   "cell_type": "markdown",
   "id": "5f3fda4f-3665-4d05-88ad-246257c5bfe0",
   "metadata": {},
   "source": [
    "### IN CLASS ASSIGNMENT\n",
    "                      \n",
    "DATE: 16/05/2025                          \n",
    "TIME: 60 MIN"
   ]
  },
  {
   "cell_type": "code",
   "execution_count": null,
   "id": "f83bc495-e865-4b00-941e-91e10768130e",
   "metadata": {},
   "outputs": [],
   "source": [
    "print(f\"Student ID: {input('Type your name: ')} {input('Type your surname: ')}\")"
   ]
  },
  {
   "cell_type": "markdown",
   "id": "a09367e2-756e-4eb9-ba78-b56b82aab1b7",
   "metadata": {},
   "source": [
    "**1. Create and Inspect an Array**\n",
    "\n",
    "Task:\n",
    "- Create a 1D NumPy array of integers from 0 to 9.\n",
    "- Print its shape, datatype, and number of dimensions.\n",
    "\n",
    "**2. Array Indexing and Slicing**\n",
    "\n",
    "Task:\n",
    "- Given the array arr = np.arange(10, 20),\n",
    "- Extract the first 5 elements\n",
    "- Get every second element\n",
    "- Reverse the array\n",
    "\n",
    "**3. Reshape an Array**\n",
    "\n",
    "Task:\n",
    "- Create a 1D array with 12 elements. Reshape it into a 3×4 and then a 2×6 matrix.\n",
    "- Print both reshaped arrays.\n",
    "\n",
    "**4. Create Special Arrays**\n",
    "\n",
    "Task:\n",
    "Create the following arrays using NumPy:\n",
    "- A 3×3 array of all zeros\n",
    "- A 2×4 array of all ones\n",
    "- A 4×4 identity matrix\n",
    "- A 5×5 array filled with the number 7\n",
    "\n",
    "**5. Random Array and Statistics**\n",
    "\n",
    "Task:\n",
    "- Generate a 1D array of 100 random numbers from a normal distribution.\n",
    "- Compute and print the mean, standard deviation, and variance.\n",
    "\n",
    "**6. Boolean Indexing**\n",
    "\n",
    "Task:\n",
    "- Create a NumPy array of numbers from 1 to 20.\n",
    "- Extract all numbers divisible by 3.\n",
    "\n",
    "**7. Element-wise Operations**\n",
    "\n",
    "Task:\n",
    "- Given a = np.array([1, 2, 3]) and b = np.array([4, 5, 6]), perform the following operations:\n",
    "\n",
    "    1. Add a and b\n",
    "    2. Multiply a and b element-wise\n",
    "    3. Compute the dot product of a and b\n",
    "\n",
    "**8. Broadcasting Practice**\n",
    "\n",
    "Task:\n",
    "- Create a 3×3 matrix of ones and a 1×3 vector [1, 2, 3].\n",
    "- Add the vector to each row of the matrix using broadcasting.\n",
    "\n",
    "**9. Sorting and Argsort**\n",
    "\n",
    "Task:\n",
    "- Create a random array of 10 integers between 1 and 100.\n",
    "- Sort the array\n",
    "- Print the indices that would sort the array (argsort)\n",
    "\n",
    "**10. Conditional Selection with np.where()**\n",
    "\n",
    "Task:\n",
    "- Create an array of integers from 0 to 9.\n",
    "- Use np.where() to replace values less than 5 with -1 and the rest with 1.\n",
    "\n",
    "**11.  Z-score Standardization**\n",
    "\n",
    "Task:\n",
    "- Given an array of random values from a normal distribution, transform it into a standardized array using Z-score:\n",
    "$(x - mean) / std$"
   ]
  },
  {
   "cell_type": "code",
   "execution_count": null,
   "id": "5a839643-753b-4388-b663-02bd0044923c",
   "metadata": {},
   "outputs": [],
   "source": []
  }
 ],
 "metadata": {
  "kernelspec": {
   "display_name": "Python 3 (ipykernel)",
   "language": "python",
   "name": "python3"
  },
  "language_info": {
   "codemirror_mode": {
    "name": "ipython",
    "version": 3
   },
   "file_extension": ".py",
   "mimetype": "text/x-python",
   "name": "python",
   "nbconvert_exporter": "python",
   "pygments_lexer": "ipython3",
   "version": "3.9.13"
  }
 },
 "nbformat": 4,
 "nbformat_minor": 5
}
