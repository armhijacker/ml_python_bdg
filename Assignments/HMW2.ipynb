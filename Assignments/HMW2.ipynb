{
 "cells": [
  {
   "cell_type": "markdown",
   "id": "9b064871",
   "metadata": {},
   "source": [
    "# Beginner Python Tasks: Core Concepts\n",
    "This notebook contains beginner-friendly tasks covering various Python concepts:\n",
    "- List & Dictionary Comprehensions\n",
    "- Variable Scope (LEGB)\n",
    "- Functions (*args, **kwargs, return vs print)\n",
    "- Lambda functions\n",
    "- Built-in functions\n",
    "- File Read/Write"
   ]
  },
  {
   "cell_type": "markdown",
   "id": "d35664e4",
   "metadata": {},
   "source": [
    "## Task 1: List Comprehension\n",
    "Create a list of squares for numbers from 1 to 10 using list comprehension."
   ]
  },
  {
   "cell_type": "code",
   "execution_count": null,
   "id": "3f1ce730",
   "metadata": {},
   "outputs": [],
   "source": [
    "# Your code here\n",
    "squares = .....\n",
    "print(squares)"
   ]
  },
  {
   "cell_type": "markdown",
   "id": "d63bc5e2",
   "metadata": {},
   "source": [
    "## Task 2: Dictionary Comprehension\n",
    "Create a dictionary where the keys are numbers from 1 to 5 and values are their cubes."
   ]
  },
  {
   "cell_type": "code",
   "execution_count": null,
   "id": "6b797203",
   "metadata": {},
   "outputs": [],
   "source": [
    "# Your code here\n",
    "cubes = ......\n",
    "print(cubes)"
   ]
  },
  {
   "cell_type": "markdown",
   "id": "09233ee0",
   "metadata": {},
   "source": [
    "## Task 3: LEGB Rule (Variable Scope)\n",
    "Write a function with a local variable `x` and compare it to a global `x`."
   ]
  },
  {
   "cell_type": "code",
   "execution_count": null,
   "id": "7784c3c0",
   "metadata": {},
   "outputs": [],
   "source": [
    "# Your code here\n",
    "variable = \"Global Status\"\n",
    "\n",
    "def my_function():\n",
    "    ..."
   ]
  },
  {
   "cell_type": "markdown",
   "id": "c9221af9",
   "metadata": {},
   "source": [
    "## Task 4: *args\n",
    "Create a function that sums an arbitrary number of arguments."
   ]
  },
  {
   "cell_type": "code",
   "execution_count": null,
   "id": "c5e010df",
   "metadata": {},
   "outputs": [],
   "source": [
    "# Your code here : Do not use Sum function\n",
    "def sum_all(*nums):\n",
    "    .....\n",
    "\n",
    "print(sum_all(1, 2, 3, 4))"
   ]
  },
  {
   "cell_type": "markdown",
   "id": "34c47e45",
   "metadata": {},
   "source": [
    "## Task 5: **kwargs\n",
    "Create a function that prints key-value pairs from keyword arguments."
   ]
  },
  {
   "cell_type": "code",
   "execution_count": null,
   "id": "14b19965",
   "metadata": {},
   "outputs": [],
   "source": [
    "# Your code here\n",
    "def print_info(**namesurnames):\n",
    "    .....\n",
    "\n",
    "print_info(name=\"Alice\", age=25, city=\"Yerevan\")"
   ]
  },
  {
   "cell_type": "markdown",
   "id": "ff101332",
   "metadata": {},
   "source": [
    "## Task 6: Return vs Print in Functions\n",
    "Create two functions, one returns a value, the other prints it. Explain the difference."
   ]
  },
  {
   "cell_type": "code",
   "execution_count": null,
   "id": "d08d17fa",
   "metadata": {},
   "outputs": [],
   "source": [
    "# Your code here\n",
    "def square_return(x):\n",
    "    ....\n",
    "\n",
    "def square_print(x):\n",
    "    ....\n",
    "\n",
    "# Try both\n",
    "val = square_return(5)\n",
    "print(\"Returned value:\", val)\n",
    "square_print(5)\n",
    "\n",
    "# What's the difference betwwen Return and Print: Write your answer here: ... "
   ]
  },
  {
   "cell_type": "markdown",
   "id": "bde95c5b",
   "metadata": {},
   "source": [
    "## Task 7: Lambda Function\n",
    "Create a lambda function that multiplies two numbers."
   ]
  },
  {
   "cell_type": "code",
   "execution_count": null,
   "id": "52664787",
   "metadata": {},
   "outputs": [],
   "source": [
    "# Your code here\n",
    "multiply = lambda .....\n",
    "print(multiply(4, 5))"
   ]
  },
  {
   "cell_type": "markdown",
   "id": "d7a35d3a",
   "metadata": {},
   "source": [
    "## Task 8: Built-in Functions\n",
    "Given a list of numbers, use `max()`, `min()`, and `sum()`."
   ]
  },
  {
   "cell_type": "code",
   "execution_count": null,
   "id": "2c4c7e45",
   "metadata": {},
   "outputs": [],
   "source": [
    "# Your code here\n",
    "numbers = [3, 7, 2, 8, 4, 10]\n",
    "...."
   ]
  },
  {
   "cell_type": "markdown",
   "id": "713325aa",
   "metadata": {},
   "source": [
    "## Task 9: File Writing\n",
    "Write a list of names to a file named `names.txt`, each on a new line. If no file, Create it First and Write some Information"
   ]
  },
  {
   "cell_type": "code",
   "execution_count": null,
   "id": "0c987b7b",
   "metadata": {},
   "outputs": [],
   "source": [
    "# Your code here\n",
    "names = [\"Alice\", \"Bob\", \"Charlie\"]\n",
    "with open(\"names.txt\", \"w\") as file:\n",
    "    for name in names:\n",
    "        file.write(name + \"\\n\")"
   ]
  },
  {
   "cell_type": "markdown",
   "id": "26abd6b0",
   "metadata": {},
   "source": [
    "## Task 10: File Reading\n",
    "Read and print each line from the `names.txt` file."
   ]
  },
  {
   "cell_type": "code",
   "execution_count": null,
   "id": "277cdf0c",
   "metadata": {},
   "outputs": [],
   "source": [
    "# Your code here\n",
    "with open(\"names.txt\", \"r\") as file:\n",
    "    for line in file:\n",
    "        print(line.strip())"
   ]
  },
  {
   "cell_type": "markdown",
   "id": "91b1f754-143e-4ea1-a796-3845f1419415",
   "metadata": {},
   "source": [
    "# Advanced Python Tasks:"
   ]
  },
  {
   "cell_type": "markdown",
   "id": "1694d651-cae7-4913-9df4-bcf890c85f7c",
   "metadata": {},
   "source": [
    "## Task 1:"
   ]
  },
  {
   "cell_type": "markdown",
   "id": "6f3a4ef4-b3f9-43ee-a593-7b6ddaae2140",
   "metadata": {},
   "source": [
    "An extra day is added to the calendar almost every four years as February 29, and the day is called a leap day. It corrects the calendar for the fact that our planet takes approximately 365.25 days to orbit the sun. A leap year contains a leap day.\n",
    "\n",
    "In the Gregorian calendar, three conditions are used to identify leap years:\n",
    "\n",
    "* The year can be evenly divided by 4, is a leap year, unless:\n",
    "  * The year can be evenly divided by 100, it is NOT a leap year, unless:\n",
    "    * The year is also evenly divisible by 400. Then it is a leap year.\n",
    "\n",
    "This means that in the Gregorian calendar, the years 2000 and 2400 are leap years, while 1800, 1900, 2100, 2200, 2300 and 2500 are NOT leap years. Source\n",
    "\n",
    "Task\n",
    "\n",
    "Given a year, determine whether it is a leap year. If it is a leap year, return the Boolean True, otherwise return False.\n"
   ]
  },
  {
   "cell_type": "code",
   "execution_count": null,
   "id": "eb33812c-e10d-4434-9292-db61146b7bc3",
   "metadata": {},
   "outputs": [],
   "source": [
    "def is_leap(year):\n",
    "    leap = False\n",
    "    \n",
    "    # Write your logic here\n",
    "    \n",
    "    return leap\n",
    "\n",
    "year = int(input())\n",
    "print(is_leap(year))"
   ]
  },
  {
   "cell_type": "markdown",
   "id": "06fc77bf-ae81-4f09-9234-1b751bba8527",
   "metadata": {},
   "source": [
    "## Task 2:"
   ]
  },
  {
   "cell_type": "markdown",
   "id": "166884fe-89f2-4cdb-82d1-fdb5bb867dcb",
   "metadata": {},
   "source": [
    "You are given four points $A$, $B$, $C$ and $D$ in a 3-dimensional Cartesian coordinate system. You are required to print the angle between the plane made by the points $A$, $B$, $C$ and $B$, $C$, $D$ in degrees(not radians). Let the angle be $PHI$.\n",
    "\n",
    "$Cos(PHI) = (X.Y)/|X||Y|$ where  $X = ABxBC$ and $Y = BCxCD$.\n",
    "\n",
    "Here $X.Y$ means the dot product of $X$ and $Y$, and $ABxBC$ means cross product of vectors $AB$ and $BC$. Also, $AB = B-A$\n",
    "\n",
    "Input Format\n",
    "\n",
    "One line of input containing the space separated floating number values of the $X$, $Y$ and $Z$ coordinates of a point.\n",
    "\n",
    "Output Format\n",
    "\n",
    "Output the angle correct up to two decimal places.\n",
    "\n",
    "Sample Input\n",
    "\n",
    "0 4 5\n",
    "1 7 6\n",
    "0 5 9\n",
    "1 7 2\n",
    "\n",
    "Sample Output\n",
    "\n",
    "8.19\n",
    "\n"
   ]
  },
  {
   "cell_type": "code",
   "execution_count": null,
   "id": "a61585df-099f-4a41-a119-99d65ef86f43",
   "metadata": {},
   "outputs": [],
   "source": [
    "import math\n",
    "\n",
    "# Write your code Here\n",
    "class Points(object):\n",
    "    def __init__(self, x, y, z):\n",
    "\n",
    "    def __sub__(self, no):\n",
    "\n",
    "    def dot(self, no):\n",
    "\n",
    "    def cross(self, no):\n",
    "        \n",
    "    def absolute(self):\n",
    "        return pow((self.x ** 2 + self.y ** 2 + self.z ** 2), 0.5)\n",
    "\n",
    "\n",
    "\n",
    "# Do not Touch This \n",
    "points = list()\n",
    "for i in range(4):\n",
    "    a = list(map(float, input().split()))\n",
    "    points.append(a)\n",
    "\n",
    "a, b, c, d = Points(*points[0]), Points(*points[1]), Points(*points[2]), Points(*points[3])\n",
    "x = (b - a).cross(c - b)\n",
    "y = (c - b).cross(d - c)\n",
    "angle = math.acos(x.dot(y) / (x.absolute() * y.absolute()))\n",
    "\n",
    "print(\"%.2f\" % math.degrees(angle))"
   ]
  }
 ],
 "metadata": {
  "kernelspec": {
   "display_name": "Python 3 (ipykernel)",
   "language": "python",
   "name": "python3"
  },
  "language_info": {
   "codemirror_mode": {
    "name": "ipython",
    "version": 3
   },
   "file_extension": ".py",
   "mimetype": "text/x-python",
   "name": "python",
   "nbconvert_exporter": "python",
   "pygments_lexer": "ipython3",
   "version": "3.9.13"
  }
 },
 "nbformat": 4,
 "nbformat_minor": 5
}
