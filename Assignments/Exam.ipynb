{
 "cells": [
  {
   "cell_type": "markdown",
   "id": "cec9ebe3-e3cd-436d-88cb-1e7545835fe0",
   "metadata": {},
   "source": [
    "1. Data Types\n",
    "Task: Define variables of type int, float, bool, str, and complex. Print their types.\n",
    "\n",
    "2. Type Conversion\n",
    "Task: Convert a float to an integer, an integer to a string, and a string to a list of characters.\n",
    "\n",
    "3. Basic Functions\n",
    "Task: Write a function that takes two numbers and returns their sum, difference, product, and quotient as a dictionary.\n",
    "\n",
    "4. List Operations\n",
    "Task: Given a list of numbers, remove duplicates and sort it in descending order.\n",
    "\n",
    "5. Tuple and Dictionary Manipulation\n",
    "Task: Given a tuple (10, 20, 30, 40) and a dictionary {\"a\": 1, \"b\": 2}, add a new key-value pair and convert the tuple to a list.\n",
    "\n",
    "6. Set Operations\n",
    "Task: Write a function that takes two lists and returns their intersection and union using sets.\n",
    "\n",
    "7. List Comprehensions\n",
    "Task: Generate a list of squares for even numbers from 1 to 20 using list comprehension.\n",
    "\n",
    "8. For Loop\n",
    "Task: Write a for loop to find the factorial of a given number.\n",
    "\n",
    "9. Conditional Statements\n",
    "Task: Write a function that checks if a number is positive, negative, or zero.\n",
    "\n",
    "10. *args and kwargs\n",
    "Task: Create a function that accepts any number of positional and keyword arguments and prints them.\n",
    "\n",
    "11. Lambda Function\n",
    "Task: Write a lambda function to compute x^2 + 2x + 1. Apply it to a list using map.\n",
    "\n",
    "12. Filtering with Lambda\n",
    "Task: Use filter() and a lambda to extract numbers divisible by 3 from a list of 1 to 50.\n",
    "\n",
    "15. NumPy Basics\n",
    "Task: Create a NumPy array of numbers from 0 to 9. Reshape it to (2, 5) and compute its mean and standard deviation.\n",
    "\n",
    "16. NumPy Math Functions\n",
    "Task: Generate an array of 10 random integers from 1 to 100 and find the max, min, and sum.\n",
    "\n",
    "17. Create Pandas DataFrame\n",
    "Task: Create a DataFrame with columns Name, Age, and City. Fill it with at least 5 rows of data.\n",
    "\n",
    "18. DataFrame Manipulations\n",
    "Task: Add a new column Age_Group based on Age: <18: Minor, 18-60: Adult, >60: Senior.\n",
    "\n",
    "19. DataFrame Info\n",
    "Task: Use .info() and .describe() to explore the structure of a DataFrame.\n",
    "\n",
    "20. Pandas Column Operations\n",
    "Task: Create a new column that contains the length of each person's name in the Name column."
   ]
  },
  {
   "cell_type": "code",
   "execution_count": null,
   "id": "3908574b-41a8-472a-805e-543cb7c0a15f",
   "metadata": {},
   "outputs": [],
   "source": []
  }
 ],
 "metadata": {
  "kernelspec": {
   "display_name": "Python 3 (ipykernel)",
   "language": "python",
   "name": "python3"
  },
  "language_info": {
   "codemirror_mode": {
    "name": "ipython",
    "version": 3
   },
   "file_extension": ".py",
   "mimetype": "text/x-python",
   "name": "python",
   "nbconvert_exporter": "python",
   "pygments_lexer": "ipython3",
   "version": "3.9.13"
  }
 },
 "nbformat": 4,
 "nbformat_minor": 5
}
