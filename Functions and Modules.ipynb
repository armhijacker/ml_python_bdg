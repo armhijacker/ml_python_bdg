{
 "cells": [
  {
   "cell_type": "markdown",
   "metadata": {
    "id": "ATeDSVYN9-O5"
   },
   "source": [
    "# Functions and Modules"
   ]
  },
  {
   "cell_type": "markdown",
   "metadata": {
    "id": "LJnLp8079-O9"
   },
   "source": [
    "## Functions\n",
    "\n",
    "Many functions exist (built) in Python, yet some do not. If one wants to use a piece of code many times, usually s/he is encouraged to develop a function to use it in the future as well.\n",
    "\n",
    "Functions have the following structure:\n",
    "\n",
    "```python \n",
    "def funcname(arg1, arg2,... argN):\n",
    "    \n",
    "    \"\"\" Document String \"\"\"  # Optional\n",
    "\n",
    "    statements\n",
    "\n",
    "    return <value>  # Optional\n",
    "```\n",
    "and we use functon like:\n",
    "\n",
    "```python\n",
    "funcname(arg1, arg2,... argN)\n",
    "```"
   ]
  },
  {
   "cell_type": "markdown",
   "metadata": {
    "id": "dDyilZ-d9-O-"
   },
   "source": [
    "- ```def``` indicates that we are declaring a function, \n",
    "\n",
    "- ```funcname``` is the name, and the function takes the arguments written in parentheses,\n",
    "\n",
    "- The first line inside is a ```docstring```, which is used to document the function, \n",
    "\n",
    "- Inside the function the functionality is written, \n",
    "\n",
    "- ```return``` returns a value of the function."
   ]
  },
  {
   "cell_type": "code",
   "execution_count": null,
   "metadata": {},
   "outputs": [],
   "source": [
    "def sqrt(num):\n",
    "    if num>=0:\n",
    "        return num**0.5\n",
    "    else:\n",
    "        print(\"sqrt is not available for negatives\")"
   ]
  },
  {
   "cell_type": "code",
   "execution_count": null,
   "metadata": {},
   "outputs": [],
   "source": [
    "Sqrt_number = sqrt(255)\n",
    "Sqrt_number * 5"
   ]
  },
  {
   "cell_type": "markdown",
   "metadata": {
    "id": "0MavFMtUNGxC"
   },
   "source": [
    "## Local and global variables"
   ]
  },
  {
   "cell_type": "code",
   "execution_count": null,
   "metadata": {
    "id": "Mtz2xScCNGxE"
   },
   "outputs": [],
   "source": []
  },
  {
   "cell_type": "markdown",
   "metadata": {
    "id": "PN-ILyunNGxE"
   },
   "source": [
    "## Return Statement"
   ]
  },
  {
   "cell_type": "markdown",
   "metadata": {
    "id": "ub0Ia7DxNGxE"
   },
   "source": [
    "If the function should return some value, we need to use ```return``` function.\n",
    "\n",
    "with ```return``` the function can return more than one value and if there are more than one values, they come in tuple.\n",
    "\n",
    "The functions stops execution after ```return```. So everything written under ```return``` won't work."
   ]
  },
  {
   "cell_type": "code",
   "execution_count": null,
   "metadata": {
    "id": "NTs4AktVNGxE"
   },
   "outputs": [],
   "source": []
  },
  {
   "cell_type": "markdown",
   "metadata": {
    "id": "4LSXjAzTNGxF"
   },
   "source": [
    "## Keyword arguments and Default values\n",
    "\n",
    "... when our function has certain values with names."
   ]
  },
  {
   "cell_type": "code",
   "execution_count": null,
   "metadata": {
    "id": "dJfls4jeNGxF"
   },
   "outputs": [],
   "source": []
  },
  {
   "cell_type": "markdown",
   "metadata": {
    "id": "N9UqKN3c9-Pd"
   },
   "source": [
    "## Any number of arguments"
   ]
  },
  {
   "cell_type": "markdown",
   "metadata": {
    "id": "FUTUyZV9NGxG"
   },
   "source": [
    "When we don't know the exact number of arguments given to our function, we use **args** and **kwargs**\n",
    "\n",
    "- **args** - list of arguments\n",
    "- **kwargs** - dict of arguments"
   ]
  },
  {
   "cell_type": "code",
   "execution_count": null,
   "metadata": {
    "id": "NnjY9q0WNGxG"
   },
   "outputs": [],
   "source": []
  },
  {
   "cell_type": "markdown",
   "metadata": {
    "id": "3Nf-D6v4NGxH"
   },
   "source": [
    "## Mutable objects as arguments"
   ]
  },
  {
   "cell_type": "markdown",
   "metadata": {
    "id": "0XQhi3KfNGxH"
   },
   "source": [
    "When mutable objects are passed explicitly as arguments, a new instance of the object is passed each time the function is called. Each call to the function operates on the copy of the object (or reference, depending on the operation), so changes made to the object within the function do not affect other calls unless explicitly modified."
   ]
  },
  {
   "cell_type": "code",
   "execution_count": null,
   "metadata": {
    "id": "ca7HCYySNGxI"
   },
   "outputs": [],
   "source": [
    "def add_to_list(value, my_list):\n",
    "    my_list.append(value)\n",
    "    return my_list\n",
    "\n",
    "lst1 = []\n",
    "lst2 = []\n",
    "\n",
    "# First call adds 1 to lst1\n",
    "print(add_to_list(1, lst1))  # Output: [1]\n",
    "\n",
    "# Second call adds 2 to lst2, independent of lst1\n",
    "print(add_to_list(2, lst2))  # Output: [2]"
   ]
  },
  {
   "cell_type": "markdown",
   "metadata": {
    "id": "83gO9STVNGxI"
   },
   "source": [
    "## Mutable objects as default parameters\n",
    "\n",
    "When you use a mutable object as a default parameter, Python creates it once at function definition time. Subsequent calls to the function use the same object as the default value (instead of creating a new one each time).\n",
    "\n",
    "To avoid this issue, it's common practice to use ```None``` as the default value and then initialize the mutable object inside the function:"
   ]
  },
  {
   "cell_type": "code",
   "execution_count": null,
   "metadata": {
    "id": "atluzhAdNGxI"
   },
   "outputs": [],
   "source": [
    "def add_to_list(value, my_list=[]):\n",
    "    my_list.append(value)\n",
    "    return my_list\n",
    "\n",
    "# First call adds 1 to the default list\n",
    "print(add_to_list(1))  # Output: [1]\n",
    "\n",
    "# Second call adds 2 to the same list from the first call (side effect)\n",
    "print(add_to_list(2))  # Output: [1, 2]"
   ]
  },
  {
   "cell_type": "markdown",
   "metadata": {
    "id": "d4ZYr1zDNGxI"
   },
   "source": [
    "## Docstrings"
   ]
  },
  {
   "cell_type": "markdown",
   "metadata": {
    "id": "u8dkQqWbNGxI"
   },
   "source": [
    "This is the documnentation of the function - or simply said, how it works, what parameters it takes, etc."
   ]
  },
  {
   "cell_type": "markdown",
   "metadata": {
    "id": "IVNtPm2UNGxI"
   },
   "source": [
    "```python \n",
    "def funcname(arg1, arg2,... argN):\n",
    "    \n",
    "    \"\"\" Description of the Function\n",
    "        ====================================\n",
    "\n",
    "        Parameters:\n",
    "        arg1 (type): Description of arg1\n",
    "        ...\n",
    "        argN (type): Description of argN\n",
    "\n",
    "        Returns:\n",
    "        int: Returning value \n",
    "        \n",
    "        Examples:\n",
    "        ...\n",
    "    \"\"\"\n",
    "\n",
    "    statements\n",
    "\n",
    "    return <value>  # Optional\n",
    "```"
   ]
  },
  {
   "cell_type": "code",
   "execution_count": null,
   "metadata": {
    "id": "NTyE0DHINGxI"
   },
   "outputs": [],
   "source": [
    "def custom_append(lst, number = 0):\n",
    "    '''\n",
    "    Appends a number to the list\n",
    "    \n",
    "    Parameters:\n",
    "    lst (list): the list to be appended\n",
    "    number (int): the number to append to the list, default is 0\n",
    "    \n",
    "    Returns:\n",
    "    list: resulting list\n",
    "    \n",
    "    '''\n",
    "    lst.append(1)\n",
    "    return lst"
   ]
  },
  {
   "cell_type": "markdown",
   "metadata": {
    "id": "bfdJGxKwNGxJ"
   },
   "source": [
    "**help()** shows the docstring of the function"
   ]
  },
  {
   "cell_type": "code",
   "execution_count": null,
   "metadata": {
    "id": "bULQtxNPNGxJ"
   },
   "outputs": [],
   "source": []
  },
  {
   "cell_type": "markdown",
   "metadata": {
    "id": "8vVbz9aZC9NL"
   },
   "source": [
    "## Type Hinting"
   ]
  },
  {
   "cell_type": "markdown",
   "metadata": {
    "id": "m5LddcPTDB6l"
   },
   "source": [
    "Type hinting in Python is a way to indicate the type of a variable, function parameter, or return value using special syntax. It’s a way to provide additional information to help both humans and tools (like linters or IDEs) understand the expected data types, which can improve code readability, maintainability, and help with error detection during development.\n",
    "\n",
    "Although Python is a dynamically typed language (i.e., types are not strictly enforced), type hints help with:\n",
    "\n",
    "- Code clarity: They make the intent of the code clearer, letting readers know what type of values are expected.\n",
    "- Static analysis: Tools like mypy, PyCharm, or VSCode can check for type-related errors before running the program.\n",
    "- IDE support: Better autocompletion and error highlighting, improving the developer's productivity."
   ]
  },
  {
   "cell_type": "markdown",
   "metadata": {
    "id": "CSfkouHSNGxJ"
   },
   "source": [
    "<b> Variable Type Hinting:</b>\n",
    "```python\n",
    "age: int = 25\n",
    "name: str = \"John\"\n",
    "height: float = 5.9\n",
    "```\n",
    "<b> Function Type Hinting </b>\n",
    "```python\n",
    "def greet(name: str) -> str:\n",
    "    return f\"Hello, {name}!\"\n",
    "\n",
    "def add(a: int, b: int) -> int:\n",
    "    return a + b\n",
    "```\n",
    "and Many other options ... "
   ]
  },
  {
   "cell_type": "markdown",
   "metadata": {
    "id": "FxpqYq0VNGxJ"
   },
   "source": [
    "## Built-in functions"
   ]
  },
  {
   "cell_type": "code",
   "execution_count": null,
   "metadata": {
    "id": "JPdQbFLZNGxJ"
   },
   "outputs": [],
   "source": []
  },
  {
   "cell_type": "markdown",
   "metadata": {
    "id": "qZlNgfFJ9-Pi"
   },
   "source": [
    "## Lambda Functions"
   ]
  },
  {
   "cell_type": "markdown",
   "metadata": {
    "id": "atHeVpZ29-Pi"
   },
   "source": [
    "A lambda function in Python is a small, anonymous function that is defined using the ```lambda``` keyword instead of the usual ```def``` keyword. It’s typically used for short, throwaway functions that are not meant to be reused elsewhere.\n",
    "\n",
    "```python\n",
    "lambda <argument>: <statement>\n",
    "```\n",
    "- ```lambda```: The keyword used to define the function.\n",
    "- ```arguments```: The parameters the function accepts (can be zero or more).\n",
    "- ```expression```: The body of the function, which is evaluated and returned when the function is called."
   ]
  },
  {
   "cell_type": "markdown",
   "metadata": {
    "id": "cHMWZovFt_E4"
   },
   "source": [
    "Այս ֆունկցիաները ցանկալի չէ վերագրել փոփոխականների, սակայն կարելի է։"
   ]
  },
  {
   "cell_type": "code",
   "execution_count": null,
   "metadata": {
    "id": "YjuDI5bhNGxK"
   },
   "outputs": [],
   "source": [
    "# A lambda function that adds 10 to a number\n",
    "add_10 = lambda x: x + 10\n",
    "\n",
    "print(add_10(5))  # Output: 15"
   ]
  },
  {
   "cell_type": "code",
   "execution_count": null,
   "metadata": {},
   "outputs": [],
   "source": [
    "# A lambda function that multiplies two numbers\n",
    "multiply = lambda x, y: x * y\n",
    "\n",
    "print(multiply(3, 4))  # Output: 12"
   ]
  },
  {
   "cell_type": "code",
   "execution_count": null,
   "metadata": {},
   "outputs": [],
   "source": [
    "# A lambda function that returns a constant value\n",
    "get_five = lambda: 5\n",
    "\n",
    "print(get_five())  # Output: 5"
   ]
  },
  {
   "cell_type": "code",
   "execution_count": null,
   "metadata": {},
   "outputs": [],
   "source": [
    "items = [(1, 'apple'), (3, 'banana'), (2, 'cherry')]\n",
    "\n",
    "# Sorting by the second element of the tuple\n",
    "sorted_items = sorted(items, key=lambda x: x[1])\n",
    "\n",
    "print(sorted_items)  # Output: [(1, 'apple'), (3, 'banana'), (2, 'cherry')]"
   ]
  },
  {
   "cell_type": "markdown",
   "metadata": {
    "id": "mu382BEI9-Pm"
   },
   "source": [
    "### map"
   ]
  },
  {
   "cell_type": "markdown",
   "metadata": {
    "id": "T4-aEvo99-Pn"
   },
   "source": [
    "The ```map()``` function in Python is a built-in function used to apply a given function to all items in an iterable (such as a list, tuple, or string) and return a map object, which is an iterator that yields the results.-\n",
    "- function: The function that will be applied to each element of the iterable. This function can be a regular function, lambda function, or any callable.\n",
    "- iterable: The iterable (like a list, tuple, or string) whose elements will be processed by the function.\n",
    "- You can pass multiple iterables, and the function will receive elements from all iterables, applying the function to them in parallel."
   ]
  },
  {
   "cell_type": "code",
   "execution_count": null,
   "metadata": {
    "id": "gIVgA1HXNGxK"
   },
   "outputs": [],
   "source": [
    "numbers = [1, 2, 3, 4, 5]\n",
    "\n",
    "# Using a lambda function to square each number\n",
    "squared = list(map(lambda x: x ** 2, numbers))\n",
    "\n",
    "print(squared)  # Output: [1, 4, 9, 16, 25]"
   ]
  },
  {
   "cell_type": "code",
   "execution_count": null,
   "metadata": {},
   "outputs": [],
   "source": [
    "def add(x, y):\n",
    "    return x + y\n",
    "\n",
    "list1 = [1, 2, 3]\n",
    "list2 = [4, 5, 6]\n",
    "\n",
    "# Applying the add function to each pair of elements from list1 and list2\n",
    "result = map(add, list1, list2)\n",
    "\n",
    "print(list(result))  # Output: [5, 7, 9]"
   ]
  },
  {
   "cell_type": "code",
   "execution_count": null,
   "metadata": {
    "id": "USIXS2HVNGxL"
   },
   "outputs": [],
   "source": [
    "numbers = [1, 2, 3, 4, 5]\n",
    "\n",
    "# Using map with a lambda to add 5 to each element\n",
    "result = map(lambda x: x + 5, numbers)\n",
    "\n",
    "# Convert to list\n",
    "print(list(result))  # Output: [6, 7, 8, 9, 10]"
   ]
  },
  {
   "cell_type": "code",
   "execution_count": null,
   "metadata": {
    "id": "lzFcyN_CNGxL"
   },
   "outputs": [],
   "source": [
    "numbers = [1, 2, 3, 4, 5]\n",
    "squared_numbers = map(lambda x: x ** 2, numbers)\n",
    "print(list(squared_numbers))  # Output: [1, 4, 9, 16, 25]"
   ]
  },
  {
   "cell_type": "markdown",
   "metadata": {},
   "source": [
    "### Decorators (Optional)\n",
    "\n",
    "A decorator in Python is a function that modifies the behavior of another function or method without changing its code. It allows you to wrap a function and execute additional logic before or after it runs.\n",
    "Think of decorators as wrappers that enhance functions dynamically.\n",
    "\n",
    "Decorators use higher-order functions, which are functions that take other functions as arguments.\n",
    "\n",
    "Here’s the basic structure:\n",
    "\n",
    "```python\n",
    "\n",
    "def my_decorator(func):\n",
    "    def wrapper():\n",
    "        print(\"Something before the function runs.\")\n",
    "        func()\n",
    "        print(\"Something after the function runs.\")\n",
    "    return wrapper\n",
    "\n",
    "@my_decorator  # This applies the decorator to 'say_hello'\n",
    "def say_hello():\n",
    "    print(\"Hello, World!\")\n",
    "\n",
    "say_hello()\n",
    "\n",
    "```"
   ]
  },
  {
   "cell_type": "code",
   "execution_count": null,
   "metadata": {},
   "outputs": [],
   "source": [
    "def logger(func):\n",
    "    def wrapper(*args, **kwargs):\n",
    "        print(f\"Calling function: {func.__name__}\")\n",
    "        return func(*args, **kwargs)\n",
    "    return wrapper\n",
    "\n",
    "@logger\n",
    "def say_hello():\n",
    "    print(\"Hello!\")\n",
    "\n",
    "say_hello()"
   ]
  },
  {
   "cell_type": "markdown",
   "metadata": {
    "id": "HXVitP2x-5-Y"
   },
   "source": [
    "## Generators and iterators (Optional)"
   ]
  },
  {
   "cell_type": "markdown",
   "metadata": {
    "id": "kS8Cr5Zgi5ZV"
   },
   "source": [
    "An iterator is an object that represents a stream of data. It can be traversed (iterated) one item at a time. In Python, iterators are objects that implement two methods:\n",
    "\n",
    "- __iter__(): Returns the iterator object itself. This is required to initialize the iteration process.\n",
    "- __next__(): Returns the next item from the sequence. If there are no more items, it raises the StopIteration exception to signal the end of the iteration.\n",
    "\n",
    "In other words: Iterators are objects that implement the __iter__() and __next__() methods, enabling you to iterate through a sequence of data."
   ]
  },
  {
   "cell_type": "markdown",
   "metadata": {
    "id": "GUaZ0Y8KNGxM"
   },
   "source": [
    "A generator is a special type of iterator that is defined using a function but uses the ```yield``` keyword instead of return. Generators are more memory-efficient because they generate values one at a time and do not store them in memory (they produce values \"on the fly\"). When you call a generator function, it returns a generator object, which can be used to iterate over the sequence.\n",
    "\n",
    "**Key Points:**\n",
    "- Generators are lazy: They produce values only when needed, which makes them efficient for working with large data sets.\n",
    "- yield: The yield keyword is used to return the next value from the generator function. Each time yield is called, the function’s state is saved, and it can resume where it left off on the next call."
   ]
  },
  {
   "cell_type": "markdown",
   "metadata": {
    "id": "w5_7fN_ElYUB"
   },
   "source": [
    "Generator Comprehension\n",
    "\n",
    "\n"
   ]
  },
  {
   "cell_type": "code",
   "execution_count": null,
   "metadata": {},
   "outputs": [],
   "source": [
    "class MyIterator:\n",
    "    def __init__(self, start, end):\n",
    "        self.current = start\n",
    "        self.end = end\n",
    "\n",
    "    def __iter__(self):\n",
    "        return self  # The iterator object itself\n",
    "\n",
    "    def __next__(self):\n",
    "        if self.current > self.end:\n",
    "            raise StopIteration  # Stop the iteration when we reach the end\n",
    "        else:\n",
    "            self.current += 1\n",
    "            return self.current - 1\n",
    "\n",
    "# Usage\n",
    "my_iter = MyIterator(1, 5)\n",
    "\n",
    "for num in my_iter:\n",
    "    print(num)"
   ]
  },
  {
   "cell_type": "code",
   "execution_count": null,
   "metadata": {
    "id": "3Po-EkhLNGxM"
   },
   "outputs": [],
   "source": [
    "def my_generator(start, end):\n",
    "    while start <= end:\n",
    "        yield start\n",
    "        start += 1\n",
    "\n",
    "gen = my_generator(1, 5)\n",
    "\n",
    "for num in gen:\n",
    "    print(num)"
   ]
  },
  {
   "cell_type": "code",
   "execution_count": null,
   "metadata": {},
   "outputs": [],
   "source": [
    "# Generator for Fibonacci Sequence\n",
    "def fibonacci():\n",
    "    a, b = 0, 1\n",
    "    while True:\n",
    "        yield a\n",
    "        a, b = b, a + b\n",
    "\n",
    "# Usage\n",
    "gen = fibonacci()\n",
    "\n",
    "# Printing the first 10 Fibonacci numbers\n",
    "for _ in range(10):\n",
    "    print(next(gen))"
   ]
  },
  {
   "cell_type": "code",
   "execution_count": null,
   "metadata": {},
   "outputs": [],
   "source": [
    "def is_prime(n):\n",
    "    if n < 2:\n",
    "        return False\n",
    "    for i in range(2, int(n ** 0.5) + 1):\n",
    "        if n % i == 0:\n",
    "            return False\n",
    "    return True\n",
    "\n",
    "def prime_generator(limit):\n",
    "    num = 2\n",
    "    while num < limit:\n",
    "        if is_prime(num):\n",
    "            yield num\n",
    "        num += 1\n",
    "\n",
    "print(list(prime_generator(20)))  # Outputs: [2, 3, 5, 7, 11, 13, 17, 19]"
   ]
  },
  {
   "cell_type": "code",
   "execution_count": null,
   "metadata": {},
   "outputs": [],
   "source": [
    "gen = (x * x for x in range(10))\n",
    "print(list(gen))  # Outputs: [0, 1, 4, 9, 16, 25, 36, 49, 64, 81]"
   ]
  },
  {
   "cell_type": "markdown",
   "metadata": {
    "id": "Lf_6ksB1--cO"
   },
   "source": [
    "# Code Testing"
   ]
  },
  {
   "cell_type": "markdown",
   "metadata": {
    "id": "fuXVqD8m_BZj"
   },
   "source": [
    "In Python, the ```assert``` statement is used for debugging purposes and to test if a condition is True. If the condition is False, it raises an ```AssertionError``` and optionally prints a message. It is commonly used for writing test cases and ensuring that your code behaves as expected during development.\n",
    "\n",
    "The assert statement is often used in unit tests or as a simple check in your code. Here’s how it works:\n",
    "\n",
    "For more testing, we use ```unittest``` or ```pytest```"
   ]
  },
  {
   "cell_type": "code",
   "execution_count": null,
   "metadata": {
    "id": "2sHrurGDNGxM"
   },
   "outputs": [],
   "source": [
    "x = -5\n",
    "\n",
    "assert x > 0, \"x should be positive\"  # This will raise an AssertionError because -5 is not greater than 0\n",
    "print(\"Assertion passed!\")"
   ]
  },
  {
   "cell_type": "code",
   "execution_count": null,
   "metadata": {
    "id": "Cl0zAIptNGxM"
   },
   "outputs": [],
   "source": [
    "x = 10\n",
    "\n",
    "assert x > 0, \"x should be positive\"  # This will pass since 10 > 0\n",
    "print(\"Assertion passed!\")"
   ]
  },
  {
   "cell_type": "code",
   "execution_count": null,
   "metadata": {},
   "outputs": [],
   "source": [
    "def divide(a, b):\n",
    "    assert b != 0, \"b cannot be zero\"  # Prevent division by zero\n",
    "    return a / b\n",
    "\n",
    "print(divide(10, 2))  # Output: 5.0\n",
    "print(divide(10, 0))  # Will raise AssertionError: b cannot be zero"
   ]
  },
  {
   "cell_type": "code",
   "execution_count": null,
   "metadata": {},
   "outputs": [],
   "source": [
    "def add(a, b):\n",
    "    return a + b\n",
    "\n",
    "# Unit test for the add function\n",
    "assert add(2, 3) == 5, \"Test failed: 2 + 3 should be 5\"\n",
    "assert add(-1, 1) == 0, \"Test failed: -1 + 1 should be 0\"\n",
    "assert add(0, 0) == 0, \"Test failed: 0 + 0 should be 0\"\n",
    "\n",
    "print(\"All tests passed!\")"
   ]
  },
  {
   "cell_type": "markdown",
   "metadata": {},
   "source": [
    "## Modules"
   ]
  },
  {
   "cell_type": "markdown",
   "metadata": {},
   "source": [
    "In Python, a module is a file containing Python code that can define functions, classes, and variables, and also include runnable code. A module allows you to organize and structure your Python code into separate files, making your program easier to manage and maintain.\n",
    "\n",
    "**Key Points about Modules:**\n",
    "- Definition: A Python module is simply a .py file containing Python code. It can define functions, classes, and variables, and can also include runnable code.\n",
    "- Purpose: Modules help organize code into logical sections, making it easier to reuse and maintain.\n",
    "- Importing: Modules can be imported into other Python scripts using the import statement, so you can use the functions and classes defined in that module.\n",
    "\n",
    "```python\n",
    "import <module_name>\n",
    "import <module_name> as <your_given_name>\n",
    "from <module_name> import <part_of_module>\n",
    "from <module_name> import <part_of_module> as <your_given_name>\n",
    "from <module_name> import *\n",
    "```"
   ]
  },
  {
   "cell_type": "markdown",
   "metadata": {},
   "source": [
    "```python\n",
    "# my_module.py\n",
    "\n",
    "def greet(name):\n",
    "    return f\"Hello, {name}!\"\n",
    "\n",
    "def add(a, b):\n",
    "    return a + b\n",
    "```"
   ]
  },
  {
   "cell_type": "markdown",
   "metadata": {},
   "source": [
    "**Standard Library Modules**\n",
    "\n",
    "Python comes with a wide range of built-in modules, known as the Standard Library. These modules provide a variety of functionalities, such as interacting with the operating system, working with files, mathematical operations, and more.\n",
    "\n",
    "Some common examples:\n",
    "\n",
    "- math: Provides mathematical functions.\n",
    "- time and datetime: Handles date and time manipulation.\n",
    "- os: Interacts with the operating system.\n",
    "- sys: Provides access to system-specific parameters and functions.\n",
    "Example with a standard library module:"
   ]
  },
  {
   "cell_type": "markdown",
   "metadata": {},
   "source": [
    "#### math"
   ]
  },
  {
   "cell_type": "code",
   "execution_count": null,
   "metadata": {},
   "outputs": [],
   "source": [
    "import math\n",
    "\n",
    "# Using the sqrt function from the math module\n",
    "print(math.sqrt(16))  # Output: 4.0"
   ]
  },
  {
   "cell_type": "code",
   "execution_count": null,
   "metadata": {},
   "outputs": [],
   "source": [
    "# math\n",
    "# floor() and ceil()\n",
    "# fabs() f - stands for float and returns float\n",
    "# fsum() f - stands for float and returns float\n",
    "# and more math functions"
   ]
  },
  {
   "cell_type": "markdown",
   "metadata": {},
   "source": [
    "#### time"
   ]
  },
  {
   "cell_type": "code",
   "execution_count": null,
   "metadata": {},
   "outputs": [],
   "source": [
    "import time\n",
    "\n",
    "current_time = time.time()\n",
    "print(f\"Current time (in seconds since epoch): {current_time}\")"
   ]
  },
  {
   "cell_type": "code",
   "execution_count": null,
   "metadata": {},
   "outputs": [],
   "source": [
    "print(\"Sleeping for 3 seconds...\")\n",
    "time.sleep(3)\n",
    "print(\"Awoke after 3 seconds!\")"
   ]
  },
  {
   "cell_type": "code",
   "execution_count": null,
   "metadata": {},
   "outputs": [],
   "source": [
    "current_time = time.localtime()\n",
    "formatted_time = time.strftime(\"%Y-%m-%d %H:%M:%S\", current_time)\n",
    "print(f\"Formatted current time: {formatted_time}\")"
   ]
  },
  {
   "cell_type": "code",
   "execution_count": null,
   "metadata": {},
   "outputs": [],
   "source": [
    "start_time = time.time()\n",
    "\n",
    "# Some code to measure\n",
    "time.sleep(2)\n",
    "\n",
    "end_time = time.time()\n",
    "execution_time = end_time - start_time\n",
    "print(f\"Execution time: {execution_time} seconds\")"
   ]
  },
  {
   "cell_type": "markdown",
   "metadata": {},
   "source": [
    "Or we can simply use **perf_counter()** function from ```time```, which gives the real time duration regardless of current time."
   ]
  },
  {
   "cell_type": "code",
   "execution_count": null,
   "metadata": {},
   "outputs": [],
   "source": [
    "# Start the performance counter\n",
    "start_time = time.perf_counter()\n",
    "\n",
    "# Code block to measure (simulating a task)\n",
    "time.sleep(2)  # Sleep for 2 seconds to simulate a task\n",
    "\n",
    "# Stop the performance counter\n",
    "end_time = time.perf_counter()\n",
    "\n",
    "# Calculate the elapsed time\n",
    "elapsed_time = end_time - start_time\n",
    "print(f\"Elapsed time: {elapsed_time:.6f} seconds\")\n"
   ]
  },
  {
   "cell_type": "markdown",
   "metadata": {},
   "source": [
    "#### datetime"
   ]
  },
  {
   "cell_type": "code",
   "execution_count": null,
   "metadata": {},
   "outputs": [],
   "source": [
    "from datetime import datetime\n",
    "\n",
    "current_datetime = datetime.now()\n",
    "print(f\"Current date and time: {current_datetime}\")"
   ]
  },
  {
   "cell_type": "code",
   "execution_count": null,
   "metadata": {},
   "outputs": [],
   "source": [
    "current_datetime = datetime.now()\n",
    "formatted_datetime = current_datetime.strftime(\"%Y-%m-%d %H:%M:%S\")\n",
    "print(f\"Formatted date and time: {formatted_datetime}\")"
   ]
  },
  {
   "cell_type": "code",
   "execution_count": null,
   "metadata": {},
   "outputs": [],
   "source": [
    "current_date = date.today()\n",
    "print(f\"Current date: {current_date}\")"
   ]
  },
  {
   "cell_type": "code",
   "execution_count": null,
   "metadata": {},
   "outputs": [],
   "source": [
    "my_datetime = datetime(2025, 2, 24, 14, 30)\n",
    "print(f\"Custom datetime: {my_datetime}\")"
   ]
  },
  {
   "cell_type": "code",
   "execution_count": null,
   "metadata": {},
   "outputs": [],
   "source": [
    "from datetime import timedelta\n",
    "\n",
    "current_datetime = datetime.now()\n",
    "future_datetime = current_datetime + timedelta(days=10)\n",
    "past_datetime = current_datetime - timedelta(weeks=1)\n",
    "\n",
    "print(f\"Current date and time: {current_datetime}\")\n",
    "print(f\"Future date (10 days from now): {future_datetime}\")\n",
    "print(f\"Past date (1 week ago): {past_datetime}\")"
   ]
  },
  {
   "cell_type": "code",
   "execution_count": null,
   "metadata": {},
   "outputs": [],
   "source": [
    "import pytz\n",
    "\n",
    "# Get UTC time\n",
    "utc_now = datetime.now(pytz.utc)\n",
    "print(f\"UTC time: {utc_now}\")\n",
    "\n",
    "# Convert to a different timezone\n",
    "new_york_time = utc_now.astimezone(pytz.timezone('America/New_York'))\n",
    "print(f\"New York time: {new_york_time}\")"
   ]
  },
  {
   "cell_type": "markdown",
   "metadata": {},
   "source": [
    "#### random"
   ]
  },
  {
   "cell_type": "code",
   "execution_count": null,
   "metadata": {},
   "outputs": [],
   "source": [
    "import random\n",
    "\n",
    "# Generates a random float between 0 and 1\n",
    "random_number = random.random()\n",
    "print(f\"Random number: {random_number}\")\n",
    "\n",
    "# Generates a random integer between 1 and 10\n",
    "random_integer = random.randint(1, 10)\n",
    "print(f\"Random integer between 1 and 10: {random_integer}\")\n",
    "\n",
    "# List of colors\n",
    "colors = ['red', 'blue', 'green', 'yellow']\n",
    "\n",
    "# Randomly select an item from the list\n",
    "random_color = random.choice(colors)\n",
    "print(f\"Random color: {random_color}\")\n",
    "\n",
    "# List of fruits\n",
    "fruits = ['apple', 'banana', 'cherry', 'date']\n",
    "\n",
    "# Randomly select 2 fruits, with weighted probabilities\n",
    "selected_fruits = random.choices(fruits, weights=[1, 2, 3, 1], k=2)\n",
    "print(f\"Randomly selected fruits: {selected_fruits}\")\n",
    "\n",
    "# List of numbers\n",
    "numbers = [1, 2, 3, 4, 5]\n",
    "\n",
    "# Shuffle the numbers\n",
    "random.shuffle(numbers)\n",
    "print(f\"Shuffled list: {numbers}\")\n",
    "\n",
    "# Generate a random floating-point number between 5 and 10\n",
    "random_float = random.uniform(5, 10)\n",
    "print(f\"Random float between 5 and 10: {random_float}\")\n",
    "\n",
    "# Set the seed to 42\n",
    "random.seed(42)\n",
    "\n",
    "# Generate a random number after setting the seed\n",
    "random_number = random.random()\n",
    "print(f\"Random number with seed 42: {random_number}\")\n",
    "\n",
    "# Generate a random number between 1 and 10 with a mode of 5\n",
    "random_number = random.triangular(1, 10, 5)\n",
    "print(f\"Random triangular number: {random_number}\")\n",
    "\n",
    "# Generate a random number from a beta distribution\n",
    "random_beta = random.betavariate(2, 5)\n",
    "print(f\"Random beta distribution number: {random_beta}\")"
   ]
  },
  {
   "cell_type": "markdown",
   "metadata": {},
   "source": [
    "In addition to the built-in modules and standard library, there are third-party modules that you can install using pip (Python's package manager). These modules are usually created by the Python community and can be found on the Python Package Index (PyPI).\n",
    "\n",
    "```python\n",
    "pip install requests\n",
    "\n",
    "import requests\n",
    "\n",
    "response = requests.get(\"https://www.example.com\")\n",
    "print(response.status_code)\n",
    "```"
   ]
  },
  {
   "cell_type": "markdown",
   "metadata": {},
   "source": [
    "## File Read/Write\n",
    "\n",
    "In Python, file reading and writing are done using built-in functions and methods. The primary functions for interacting with files are ```open()```, ```read()```, ```write()```, ```close()```, and context managers (using the ```with``` statement for file handling). Here’s an overview of how to perform file operations such as reading from and writing to files.\n",
    "\n",
    "- w - write\n",
    "- r - read\n",
    "- a - append\n",
    "- x - create \n",
    "- b - binary"
   ]
  },
  {
   "cell_type": "markdown",
   "metadata": {},
   "source": [
    "read\n",
    "```python\n",
    "file = open('example.txt', 'r')  # Open file in read mode ('r')\n",
    "```\n",
    "or \n",
    "```python\n",
    "with open('example.txt', 'r') as file:\n",
    "    content = file.read()  # Reads the entire content of the file\n",
    "    print(content)\n",
    "```\n",
    "or\n",
    "```python\n",
    "with open('example.txt', 'r') as file:\n",
    "    line = file.readline()  # Reads the first line\n",
    "    while line:\n",
    "        print(line.strip())  # `strip()` removes newline characters\n",
    "        line = file.readline()  # Reads the next line\n",
    "```\n",
    "or \n",
    "```python\n",
    "with open('example.txt', 'r') as file:\n",
    "    lines = file.readlines()  # Returns a list of lines\n",
    "    for line in lines:\n",
    "        print(line.strip())\n",
    "```\n",
    "write\n",
    "```python\n",
    "with open('example.txt', 'w') as file:\n",
    "    file.write(\"Hello, World!\\n\")  # Writes a string to the file\n",
    "    file.write(\"This is a test.\\n\")\n",
    "```\n",
    "append\n",
    "```python\n",
    "with open('example.txt', 'a') as file:\n",
    "    file.write(\"Appended text.\\n\")  # Adds more content at the end of the file\n",
    "```\n",
    "closing file\n",
    "```python\n",
    "file = open('example.txt', 'r')\n",
    "# Read or write to the file\n",
    "file.close()  # Close the file\n",
    "```"
   ]
  },
  {
   "cell_type": "markdown",
   "metadata": {},
   "source": [
    "**Example:**\n",
    "```python \n",
    "# Write some content to a file\n",
    "with open('example.txt', 'w') as file:\n",
    "    file.write(\"Python is great.\\n\")\n",
    "    file.write(\"File handling is fun.\\n\")\n",
    "\n",
    "# Read the content of the file\n",
    "with open('example.txt', 'r') as file:\n",
    "    content = file.read()\n",
    "\n",
    "print(\"File Content:\\n\", content)\n",
    "\n",
    "# Append new content to the file\n",
    "with open('example.txt', 'a') as file:\n",
    "    file.write(\"Let's learn file operations!\\n\")\n",
    "\n",
    "# Read the updated content\n",
    "with open('example.txt', 'r') as file:\n",
    "    updated_content = file.read()\n",
    "\n",
    "print(\"\\nUpdated File Content:\\n\", updated_content)\n",
    "```"
   ]
  },
  {
   "cell_type": "code",
   "execution_count": null,
   "metadata": {},
   "outputs": [],
   "source": []
  }
 ],
 "metadata": {
  "colab": {
   "collapsed_sections": [],
   "name": "Lecture 5․ Functions, Lambdas.ipynb",
   "provenance": []
  },
  "kernelspec": {
   "display_name": "Python 3",
   "language": "python",
   "name": "python3"
  },
  "language_info": {
   "codemirror_mode": {
    "name": "ipython",
    "version": 3
   },
   "file_extension": ".py",
   "mimetype": "text/x-python",
   "name": "python",
   "nbconvert_exporter": "python",
   "pygments_lexer": "ipython3",
   "version": "3.8.3"
  }
 },
 "nbformat": 4,
 "nbformat_minor": 4
}
